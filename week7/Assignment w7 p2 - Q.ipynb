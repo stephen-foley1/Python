{
 "cells": [
  {
   "cell_type": "markdown",
   "id": "c0dd1808",
   "metadata": {},
   "source": [
    "#### Generate 1,000,000 random numbers using appropriate entity of Python random module. Create a list with those numbers.  \n",
    "\n",
    "- Q1. Calculate Standard Deviation (SD) of the list using __statistics__ module. \n",
    "- Q2. Import Python module **time** and use **time()** and calculate time it takes for calculating SD.\n",
    "- Q3. Perform the same but use Python __math__ module. \n",
    "\n",
    "- Thus, you can compare speed of both approaches.\n",
    "\n",
    "<img src='maxresdefault.jpg' width=400/>"
   ]
  },
  {
   "cell_type": "markdown",
   "id": "ded08e7e",
   "metadata": {},
   "source": [
    "## Fibonacci series\n",
    "\n",
    "- The sequence begins after the first two numbers, 0 and 1.\n",
    "- Each number in the sequence is always the sum of the two numbers before it. \n",
    "\n",
    "- F(0) = 0\n",
    "- F(1) = 1\n",
    "- F (n) = F(n-1) + F(n-2)\n",
    "\n",
    "\n",
    "- 0, 1, 1, 2, 3, 5, 8, 13, 21, ....\n",
    "\n",
    "##### 2Q1. Write a recursive function that can compute desired fibonacci number. You can ask user to provide the desired number (n) for computing the  F(n)\n",
    "#### 2Q2. Generate Fibonacci series upto that fibonacci number.\n",
    "\n"
   ]
  },
  {
   "cell_type": "code",
   "execution_count": 17,
   "id": "a899503d",
   "metadata": {},
   "outputs": [
    {
     "name": "stdout",
     "output_type": "stream",
     "text": [
      "standard dev of random list 0.2886494682375343\n",
      "time taken using statistics  0.08289575576782227\n",
      "Mean (using math module):0.5005625387753486\n",
      "Variance (using math module):0.08331851551381131\n",
      "Standard deviation (using math module):0.2886494682375343\n",
      "time taken using math module  0.022972822189331055\n",
      "difference in speed 0.05992293357849121\n"
     ]
    }
   ],
   "source": [
    "#q1 \n",
    "#q2\n",
    "from random import random,seed,sample\n",
    "import statistics as stat\n",
    "import time\n",
    "import math as m\n",
    "\n",
    "\n",
    "start=time.time()\n",
    "\n",
    "randomlist=[]\n",
    "for i in range(100000):\n",
    "    randomlist.append(random())\n",
    "\n",
    "stdv=stat.stdev(randomlist)\n",
    "print(\"standard dev of random list\", stdv)\n",
    "\n",
    "\n",
    "\n",
    "end=time.time()\n",
    "\n",
    "timetaken1 = end - start\n",
    "print(\"time taken using statistics \",timetaken1)\n",
    "#q3\n",
    "start=time.time()\n",
    "mean=m.fsum(randomlist)/len(randomlist)\n",
    "print(\"Mean (using math module):{}\".format(mean))\n",
    "\n",
    "mylist=[]\n",
    "for i in randomlist:\n",
    "    mylist.append((i-mean)**2)\n",
    "\n",
    "variance=m.fsum(mylist)/(len(randomlist)-1)\n",
    "\n",
    "print (\"Variance (using math module):{}\".format(variance))\n",
    "\n",
    "sd=m.sqrt(variance)\n",
    "\n",
    "print(\"Standard deviation (using math module):{}\".format(sd))\n",
    "\n",
    "end=time.time()\n",
    "timetaken2 = end - start\n",
    "print(\"time taken using math module \",timetaken2)\n",
    "difference=timetaken1-timetaken2\n",
    "print(\"difference in speed\", difference)"
   ]
  },
  {
   "cell_type": "code",
   "execution_count": null,
   "id": "4927ad05",
   "metadata": {},
   "outputs": [
    {
     "name": "stdout",
     "output_type": "stream",
     "text": [
      "Enter the desired number in the sequance: 99\n",
      "Fibonacci sequence up to F(99):\n"
     ]
    }
   ],
   "source": [
    "#q2.2\n",
    "# Python program to display the Fibonacci sequence\n",
    "def recur_fibo(n):\n",
    "    for i in range(0,100):\n",
    "        if n <= 1:\n",
    "            return n\n",
    "        else:\n",
    "            return recur_fibo(n - 1) + recur_fibo(n - 2)\n",
    "\n",
    "# Ask the user to provide the desired number 'n'\n",
    "try:\n",
    "    n = int(input(\"Enter the desired number in the sequance: \"))\n",
    "    if n < 0:\n",
    "        print(\"Please enter a non-negative integer.\")\n",
    "    else:\n",
    "        print(f\"Fibonacci sequence up to F({n}):\")\n",
    "        fibonacci_series = [recur_fibo(i) for i in range(n + 1)]\n",
    "        print(fibonacci_series)\n",
    "except ValueError:\n",
    "    print(\"Invalid input. Please enter a valid integer.\")\n",
    "\n",
    "    \n",
    "    \n"
   ]
  },
  {
   "cell_type": "code",
   "execution_count": null,
   "id": "6adf600c",
   "metadata": {},
   "outputs": [],
   "source": []
  }
 ],
 "metadata": {
  "kernelspec": {
   "display_name": "Python 3 (ipykernel)",
   "language": "python",
   "name": "python3"
  },
  "language_info": {
   "codemirror_mode": {
    "name": "ipython",
    "version": 3
   },
   "file_extension": ".py",
   "mimetype": "text/x-python",
   "name": "python",
   "nbconvert_exporter": "python",
   "pygments_lexer": "ipython3",
   "version": "3.11.3"
  }
 },
 "nbformat": 4,
 "nbformat_minor": 5
}
