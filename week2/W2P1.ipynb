{
 "cells": [
  {
   "cell_type": "markdown",
   "metadata": {},
   "source": [
    "##### 1. Ask the user to input  a number through console. Check whether the number is even or odd. Print out an appropriate message on Console."
   ]
  },
  {
   "cell_type": "code",
   "execution_count": 12,
   "metadata": {},
   "outputs": [
    {
     "name": "stdout",
     "output_type": "stream",
     "text": [
      "Enter a number: 8\n",
      "Even number.\n"
     ]
    }
   ],
   "source": [
    "number = int(input(\"Enter a number: \"))\n",
    "\n",
    "remainder = number % 2\n",
    "\n",
    "if remainder > 0:\n",
    "    print(\"Odd number.\")\n",
    "else:\n",
    "    print(\"Even number.\")"
   ]
  },
  {
   "cell_type": "markdown",
   "metadata": {},
   "source": [
    "##### 2. Ask the user to input a character through console. If it is 'a' or 'b' then print \"Apple\" or \"Ball\" on console, respectively. For any other character print \"Other Chars\". Use Python's conditional keywords __if__, __elif__ and __else__  \n"
   ]
  },
  {
   "cell_type": "code",
   "execution_count": 10,
   "metadata": {},
   "outputs": [
    {
     "name": "stdout",
     "output_type": "stream",
     "text": [
      "Enter a char: b\n",
      "Ball\n"
     ]
    }
   ],
   "source": [
    "char = input(\"Enter a char: \")\n",
    "\n",
    "if char == 'a':\n",
    "    print (\"Apple\")\n",
    "elif char == 'b':\n",
    "    print (\"Ball\")\n",
    "else:\n",
    "    print (\"Other Chars\")"
   ]
  },
  {
   "cell_type": "markdown",
   "metadata": {},
   "source": [
    "##### 3. You are given a list of characters. __charset__ = ['f', 'a', 'b', 'c', 'j', 'i', 'e', '*', ')', '£', '2', '/', 's', 'o']. Use __for__ loop to check whether the list contains character '__e__'. Perform the same task with __while__\n"
   ]
  },
  {
   "cell_type": "code",
   "execution_count": 14,
   "metadata": {},
   "outputs": [
    {
     "name": "stdout",
     "output_type": "stream",
     "text": [
      "The list contains 'e'\n"
     ]
    }
   ],
   "source": [
    "charset = ['f', 'a', 'b', 'c', 'j', 'i', 'e', '*', ')', '£', '2', '/', 's', 'o']\n",
    "\n",
    "for char in charset:\n",
    "    if char == 'e':\n",
    "        print (\"The list contains 'e'\")\n",
    "        break\n",
    "\n"
   ]
  },
  {
   "cell_type": "code",
   "execution_count": 16,
   "metadata": {},
   "outputs": [
    {
     "name": "stdout",
     "output_type": "stream",
     "text": [
      "The list contains 'e'\n"
     ]
    }
   ],
   "source": [
    "\n",
    "i = 0\n",
    "while i < len(charset):\n",
    "    if charset[i] == 'e':\n",
    "        print (\"The list contains 'e'\")\n",
    "        break\n",
    "    i = i + 1\n",
    "    "
   ]
  },
  {
   "cell_type": "markdown",
   "metadata": {},
   "source": [
    "##### 4. Ask the user for a string and print out whether this string is a palindrome or not. A palindrome is a string that reads the same forwards and backwards."
   ]
  },
  {
   "cell_type": "code",
   "execution_count": 20,
   "metadata": {},
   "outputs": [
    {
     "name": "stdout",
     "output_type": "stream",
     "text": [
      "Please enter a word: hooh\n",
      "hooh hooh\n",
      "This word is a palindrome\n"
     ]
    }
   ],
   "source": [
    "word = input(\"Please enter a word: \")\n",
    "word = str(word)\n",
    "\n",
    "lst = word.split()\n",
    "\n",
    "# reversing the words using reversed() function\n",
    "revlst = list(reversed(word))\n",
    "\n",
    "# joining the words\n",
    "rev = \"\".join(revlst)\n",
    "\n",
    "# removing leading or trailing space if any\n",
    "rev = rev.strip()\n",
    "\n",
    "# printint word and its reversed one\n",
    "print (word, rev)\n",
    "\n",
    "if word == rev:\n",
    "    print(\"This word is a palindrome\")\n",
    "else:\n",
    "    print(\"This word is not a palindrome\")\n",
    "\n",
    "\n"
   ]
  },
  {
   "cell_type": "markdown",
   "metadata": {},
   "source": [
    "##### 5. Write a program that takes a list of numbers (for example, a = [10, 25, 9, 23]). Create a new list with the first and last elements of the list. Hint = use a loop for/while for creating the list of numbers. "
   ]
  },
  {
   "cell_type": "code",
   "execution_count": 2,
   "metadata": {},
   "outputs": [
    {
     "name": "stdout",
     "output_type": "stream",
     "text": [
      "Enter number of elements of the list to be created : 7\n",
      "3\n",
      "4\n",
      "3\n",
      "4\n",
      "6\n",
      "7\n",
      "3\n",
      "[3, 3]\n"
     ]
    }
   ],
   "source": [
    "lst1 = [] \n",
    "  \n",
    "# number of elements as input \n",
    "n = int(input(\"Enter number of elements of the list to be created : \")) \n",
    "  \n",
    "for i in range(0, n): \n",
    "    item = int(input()) \n",
    "  \n",
    "    lst1.append(item) # adding the element \n",
    "    \n",
    "\n",
    "newlist = [lst1[0], lst1[n-1]]\n",
    "\n",
    "print (newlist) \n",
    "\n",
    "      \n"
   ]
  },
  {
   "cell_type": "markdown",
   "metadata": {},
   "source": [
    "##### 6. Write a program to remove duplicates from the following list. a = [10,20,30,20,10,50,60,40,80,50,40]"
   ]
  },
  {
   "cell_type": "code",
   "execution_count": 4,
   "metadata": {},
   "outputs": [
    {
     "name": "stdout",
     "output_type": "stream",
     "text": [
      "[10, 20, 30, 50, 60, 40, 80]\n"
     ]
    }
   ],
   "source": [
    "a = [10,20,30,20,10,50,60,40,80,50,40]\n",
    "\n",
    "\n",
    "uniq_items = []\n",
    "for x in a:\n",
    "    if x not in uniq_items:\n",
    "        uniq_items.append(x)\n",
    "        \n",
    "\n",
    "print(uniq_items)"
   ]
  },
  {
   "cell_type": "markdown",
   "metadata": {},
   "source": [
    "##### 7. Write a program to check a list is empty or not. "
   ]
  },
  {
   "cell_type": "code",
   "execution_count": 5,
   "metadata": {},
   "outputs": [
    {
     "name": "stdout",
     "output_type": "stream",
     "text": [
      "List 1 is empty\n"
     ]
    }
   ],
   "source": [
    "l = []\n",
    "\n",
    "if not l:\n",
    "    print(\"List 1 is empty\")\n",
    "\n",
    "l = ['setu']\n",
    "\n",
    "if not l:\n",
    "    print(\"List 2 is empty\")"
   ]
  },
  {
   "cell_type": "markdown",
   "metadata": {},
   "source": [
    "##### 8. Create a list of words from a given string: \"The quick brown fox jumps over the lazy dog\" .  Also write a program to find those words from the list that are longer than 3 characters."
   ]
  },
  {
   "cell_type": "code",
   "execution_count": 6,
   "metadata": {},
   "outputs": [
    {
     "name": "stdout",
     "output_type": "stream",
     "text": [
      "['The', 'quick', 'brown', 'fox', 'jumps', 'over', 'the', 'lazy', 'dog']\n"
     ]
    }
   ],
   "source": [
    "\n",
    "givenstring = \"The quick brown fox jumps over the lazy dog\"\n",
    "\n",
    "listofwords = givenstring.split(\" \")\n",
    "\n",
    "print (listofwords)\n"
   ]
  },
  {
   "cell_type": "code",
   "execution_count": 7,
   "metadata": {},
   "outputs": [
    {
     "name": "stdout",
     "output_type": "stream",
     "text": [
      "Words whos length > 3 are:  ['quick', 'brown', 'jumps', 'over', 'lazy']\n"
     ]
    }
   ],
   "source": [
    "\n",
    "wordsgt3 = []\n",
    "\n",
    "for word in listofwords:\n",
    "    if len(word) > 3:\n",
    "        wordsgt3.append(word)\n",
    "\n",
    "print(\"Words whos length > 3 are: \", wordsgt3)"
   ]
  },
  {
   "cell_type": "markdown",
   "metadata": {},
   "source": [
    "##### 9. Ask the user to input an integer through console. If it is greater than 50, print \"The number greater than 50\", if greater than 30 and less than and equal to 50: Print \"The number between 30 and 50\". Else print \"The Number less than 30\"\n",
    "\n"
   ]
  },
  {
   "cell_type": "code",
   "execution_count": 22,
   "metadata": {},
   "outputs": [
    {
     "name": "stdout",
     "output_type": "stream",
     "text": [
      "Enter a number45\n",
      "The number between 30 and 50\n"
     ]
    }
   ],
   "source": [
    "a =int(input(\"Enter a number\"))\n",
    "\n",
    "if a > 50:\n",
    "    print (\"The number greater than 50\")\n",
    "elif a > 30 and a <= 50:\n",
    "    print (\"The number between 30 and 50\")\n",
    "else:\n",
    "    print (\"THe  number less than 30\")"
   ]
  },
  {
   "cell_type": "code",
   "execution_count": null,
   "metadata": {},
   "outputs": [],
   "source": []
  }
 ],
 "metadata": {
  "kernelspec": {
   "display_name": "Python 3 (ipykernel)",
   "language": "python",
   "name": "python3"
  },
  "language_info": {
   "codemirror_mode": {
    "name": "ipython",
    "version": 3
   },
   "file_extension": ".py",
   "mimetype": "text/x-python",
   "name": "python",
   "nbconvert_exporter": "python",
   "pygments_lexer": "ipython3",
   "version": "3.10.9"
  }
 },
 "nbformat": 4,
 "nbformat_minor": 4
}
