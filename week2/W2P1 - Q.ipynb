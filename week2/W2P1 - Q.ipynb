{
 "cells": [
  {
   "cell_type": "markdown",
   "metadata": {},
   "source": [
    "##### 1. Ask the user to input  a number through console. Check whether the number is even or odd. Print out an appropriate message on Console."
   ]
  },
  {
   "cell_type": "code",
   "execution_count": 2,
   "metadata": {},
   "outputs": [
    {
     "name": "stdout",
     "output_type": "stream",
     "text": [
      "Enter a number: 7\n",
      "Odd number.\n"
     ]
    }
   ],
   "source": [
    "number = input(\"Enter a number: \")\n",
    "number = int(number)\n",
    "\n",
    "remainder = number % 2\n",
    "\n",
    "if remainder > 0:\n",
    "    print(\"Odd number.\")\n",
    "else:\n",
    "    print(\"Even number.\")"
   ]
  },
  {
   "cell_type": "markdown",
   "metadata": {},
   "source": [
    "##### 2. Ask the user to input a character through console. If it is 'a' or 'b' then print \"Apple\" or \"Ball\" on console, respectively. For any other character print \"Other Chars\". Use Python's conditional keywords __if__, __elif__ and __else__  \n"
   ]
  },
  {
   "cell_type": "code",
   "execution_count": 3,
   "metadata": {},
   "outputs": [
    {
     "name": "stdout",
     "output_type": "stream",
     "text": [
      "Enter a char: b\n",
      "Ball\n"
     ]
    }
   ],
   "source": [
    "char = input(\"Enter a char: \")\n",
    "\n",
    "if char == 'a':\n",
    "    print (\"Apple\")\n",
    "elif char == 'b':\n",
    "    print (\"Ball\")\n",
    "else:\n",
    "    print (\"Other Chars\")"
   ]
  },
  {
   "cell_type": "markdown",
   "metadata": {},
   "source": [
    "##### 3. You are given a list of characters. __charset__ = ['f', 'a', 'b', 'c', 'j', 'i', 'e', '*', ')', '£', '2', '/', 's', 'o']. Use __for__ loop to check whether the list contains character '__e__'. Perform the same task with __while__\n"
   ]
  },
  {
   "cell_type": "code",
   "execution_count": null,
   "metadata": {},
   "outputs": [],
   "source": [
    "charset = ['f', 'a', 'b', 'c', 'j', 'i', 'e', '*', ')', '£', '2', '/', 's', 'o']\n",
    "\n",
    "for char in charset:\n",
    "    if char == 'e':\n",
    "        print (\"The list contains 'e'\")\n",
    "        break\n",
    "\n",
    "\n",
    "i = 0\n",
    "while i < len(charset):\n",
    "    if charset[i] == 'e':\n",
    "        print (\"The list contains 'e'\")\n",
    "        break\n",
    "    i = i + 1"
   ]
  },
  {
   "cell_type": "markdown",
   "metadata": {},
   "source": [
    "##### 4. Ask the user for a string and print out whether this string is a palindrome or not. A palindrome is a string that reads the same forwards and backwards.\n",
    "\n",
    "Help https://realpython.com/reverse-string-python/"
   ]
  },
  {
   "cell_type": "code",
   "execution_count": 16,
   "metadata": {},
   "outputs": [
    {
     "name": "stdout",
     "output_type": "stream",
     "text": [
      "Please enter a word: noon\n",
      "['n', 'o', 'o', 'n']\n",
      "noon\n",
      "noon\n",
      "palindrome\n"
     ]
    }
   ],
   "source": [
    "word = input(\"Please enter a word: \")\n",
    "\n",
    "# reversing the words using reversed() function; it returns an iteable object\n",
    "# Then we produce a list using list() from the itabale object\n",
    "revlst = list(reversed(word))\n",
    "print (revlst)\n",
    "# joining the characters\n",
    "rev = \"\".join(revlst)\n",
    "\n",
    "print (rev)\n",
    "# removing leading or trailing space if any\n",
    "rev = rev.strip()\n",
    "\n",
    "print (rev)\n",
    "\n",
    "if word == rev:\n",
    "    print (\"palindrome\")\n",
    "else:\n",
    "    print (\"Not palindrome\")"
   ]
  },
  {
   "cell_type": "code",
   "execution_count": null,
   "metadata": {},
   "outputs": [],
   "source": []
  },
  {
   "cell_type": "markdown",
   "metadata": {},
   "source": [
    "##### 5. Write a program that takes a list of numbers (for example, a = [10, 25, 9, 23]). Create a new list with the first and last elements of the list. Hint = use a loop for/while for creating the list of numbers. "
   ]
  },
  {
   "cell_type": "code",
   "execution_count": 19,
   "metadata": {},
   "outputs": [
    {
     "name": "stdout",
     "output_type": "stream",
     "text": [
      "Enter number of elements of the list to be created : 4\n",
      "45\n",
      "5467\n",
      "87\n",
      "55\n",
      "[45, 55]\n"
     ]
    }
   ],
   "source": [
    "lst1 = [] \n",
    "  \n",
    "# number of elements as input \n",
    "n = int(input(\"Enter number of elements of the list to be created : \")) \n",
    "  \n",
    "for i in range(0, n): \n",
    "    item = int(input()) \n",
    "  \n",
    "    lst1.append(item) # adding the element \n",
    "    \n",
    "\n",
    "newlist = [lst1[0], lst1[n-1]]\n",
    "\n",
    "print (newlist) \n",
    "\n",
    "\n",
    "\n",
    "\n",
    "\n"
   ]
  },
  {
   "cell_type": "code",
   "execution_count": null,
   "metadata": {},
   "outputs": [],
   "source": []
  }
 ],
 "metadata": {
  "kernelspec": {
   "display_name": "Python 3 (ipykernel)",
   "language": "python",
   "name": "python3"
  },
  "language_info": {
   "codemirror_mode": {
    "name": "ipython",
    "version": 3
   },
   "file_extension": ".py",
   "mimetype": "text/x-python",
   "name": "python",
   "nbconvert_exporter": "python",
   "pygments_lexer": "ipython3",
   "version": "3.11.3"
  }
 },
 "nbformat": 4,
 "nbformat_minor": 4
}
