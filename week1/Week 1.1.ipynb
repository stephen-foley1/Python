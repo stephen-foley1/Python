{
 "cells": [
  {
   "cell_type": "markdown",
   "id": "87172d2b",
   "metadata": {},
   "source": [
    "#### Literal\n",
    "\n",
    "- A literal is data whose values are determined by the literal itself."
   ]
  },
  {
   "cell_type": "code",
   "execution_count": 13,
   "id": "a105b714",
   "metadata": {},
   "outputs": [
    {
     "data": {
      "text/plain": [
       "567"
      ]
     },
     "execution_count": 13,
     "metadata": {},
     "output_type": "execute_result"
    }
   ],
   "source": [
    "567"
   ]
  },
  {
   "cell_type": "code",
   "execution_count": 14,
   "id": "06d17270",
   "metadata": {},
   "outputs": [
    {
     "name": "stdout",
     "output_type": "stream",
     "text": [
      "567\n",
      "567\n"
     ]
    }
   ],
   "source": [
    "print (\"567\")\n",
    "print (567)"
   ]
  },
  {
   "cell_type": "markdown",
   "id": "7281d7ec",
   "metadata": {},
   "source": [
    "- Output: two identical lines\n",
    "- First: a string\n",
    "- Second: an integer number\n",
    "\n",
    "- These two values are stored in completely different ways\n",
    "    - The string exists as just a string - a series of letters.\n",
    "    - The integer is converted into machine representation "
   ]
  },
  {
   "cell_type": "markdown",
   "id": "a1fb3269",
   "metadata": {},
   "source": [
    "- Numbers handled by modern computers are of two types:\n",
    "    - Integers\n",
    "    - Floating-point numbers"
   ]
  },
  {
   "cell_type": "code",
   "execution_count": 15,
   "id": "5baf707f",
   "metadata": {},
   "outputs": [
    {
     "name": "stdout",
     "output_type": "stream",
     "text": [
      "-365\n"
     ]
    }
   ],
   "source": [
    "print (-365)"
   ]
  },
  {
   "cell_type": "code",
   "execution_count": 24,
   "id": "6d5f5af3",
   "metadata": {},
   "outputs": [
    {
     "name": "stdout",
     "output_type": "stream",
     "text": [
      "83\n",
      "10\n"
     ]
    }
   ],
   "source": [
    "print(0o123)\n",
    "print(0xA)"
   ]
  },
  {
   "cell_type": "code",
   "execution_count": 25,
   "id": "44facc92",
   "metadata": {},
   "outputs": [
    {
     "name": "stdout",
     "output_type": "stream",
     "text": [
      "5.0\n"
     ]
    }
   ],
   "source": [
    "# Float should have a non-empty decimal fraction\n",
    "print(5.0)\n"
   ]
  },
  {
   "cell_type": "code",
   "execution_count": 26,
   "id": "769d7ffd",
   "metadata": {},
   "outputs": [
    {
     "name": "stdout",
     "output_type": "stream",
     "text": [
      "5.0\n",
      "5\n"
     ]
    }
   ],
   "source": [
    "print(5.0)\n",
    "print (5)"
   ]
  },
  {
   "cell_type": "markdown",
   "id": "15b90594",
   "metadata": {},
   "source": [
    "- 3 x 10^8  #  three times ten to the power of eight.\n",
    "- In python: 3E8\n",
    "\n",
    "- the exponent (the value after the E) has to be an integer;\n",
    "- the base (the value in front of the E) may be an integer.\n",
    "\n",
    "E.g. 0.0000000000000000000001\n",
    "\n",
    "-  the more economical form of the number's presentation"
   ]
  },
  {
   "cell_type": "code",
   "execution_count": 27,
   "id": "b8f56de0",
   "metadata": {},
   "outputs": [
    {
     "name": "stdout",
     "output_type": "stream",
     "text": [
      "1e-22\n"
     ]
    }
   ],
   "source": [
    "print(0.0000000000000000000001)"
   ]
  },
  {
   "cell_type": "code",
   "execution_count": null,
   "id": "fd248ef7",
   "metadata": {},
   "outputs": [],
   "source": []
  }
 ],
 "metadata": {
  "kernelspec": {
   "display_name": "Python 3 (ipykernel)",
   "language": "python",
   "name": "python3"
  },
  "language_info": {
   "codemirror_mode": {
    "name": "ipython",
    "version": 3
   },
   "file_extension": ".py",
   "mimetype": "text/x-python",
   "name": "python",
   "nbconvert_exporter": "python",
   "pygments_lexer": "ipython3",
   "version": "3.10.9"
  }
 },
 "nbformat": 4,
 "nbformat_minor": 5
}
