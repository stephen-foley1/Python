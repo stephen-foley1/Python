{
 "cells": [
  {
   "cell_type": "markdown",
   "id": "d5ed9351",
   "metadata": {},
   "source": [
    " ## Variables"
   ]
  },
  {
   "cell_type": "markdown",
   "id": "63e1d5a1",
   "metadata": {},
   "source": [
    "- Used for encoding __literals__ carrying __number__ and __text__ values.\n",
    "- A varibale\n",
    "    - a name\n",
    "    - a value (the content of the container)\n",
    "    \n",
    "- Variables do not come in a program automatically\n",
    "- Programmaer (you) must decide how many and which variables to use in your programs."
   ]
  },
  {
   "cell_type": "markdown",
   "id": "b376d71f",
   "metadata": {},
   "source": [
    "#### Rules\n",
    "\n",
    "- the name of the variable must be composed of upper-case or lower-case letters, digits, and the character _ (underscore)\n",
    "- the name of the variable must begin with a letter;\n",
    "- the underscore character is a letter;\n",
    "- upper- and lower-case letters are treated as different \n",
    "-  var1 and VAR1 are the same names, but in Python they are two different variable names\n",
    "      - consequently, two different variables\n",
    "- the name of the variable must __not__ be any of Python's reserved words (the keywords - we'll explain more about this soon)."
   ]
  },
  {
   "cell_type": "markdown",
   "id": "8fd54b29",
   "metadata": {},
   "source": [
    "### Keywords in Python\n",
    "\n",
    "_'False', 'None', 'True', 'and', 'as', 'assert', 'break', 'class', 'continue', 'def', 'del', 'elif', 'else', 'except', 'finally', 'for', 'from', 'global', 'if', 'import', 'in', 'is', 'lambda', 'nonlocal', 'not', 'or', 'pass', 'raise', 'return', 'try', 'while', 'with', 'yield'_\n"
   ]
  },
  {
   "cell_type": "code",
   "execution_count": 3,
   "id": "c678511d",
   "metadata": {},
   "outputs": [
    {
     "name": "stdout",
     "output_type": "stream",
     "text": [
      "7.4\n"
     ]
    }
   ],
   "source": [
    "myvar = 7.4\n",
    "print (myvar)"
   ]
  },
  {
   "cell_type": "markdown",
   "id": "b191a76d",
   "metadata": {},
   "source": [
    "- A variable comes into existence as a result of assigning a value to it"
   ]
  },
  {
   "cell_type": "code",
   "execution_count": 4,
   "id": "2e529616",
   "metadata": {},
   "outputs": [
    {
     "name": "stdout",
     "output_type": "stream",
     "text": [
      "I like reading!\n"
     ]
    }
   ],
   "source": [
    "myvar2 = \"I like reading!\"\n",
    "print (myvar2)"
   ]
  },
  {
   "cell_type": "code",
   "execution_count": 11,
   "id": "ffaef597",
   "metadata": {},
   "outputs": [
    {
     "name": "stdout",
     "output_type": "stream",
     "text": [
      "I like reading! ## 7.4 -- My second line\n"
     ]
    }
   ],
   "source": [
    "print (myvar2, myvar, sep=\" ## \", end=\" -- \")\n",
    "print (\"My second line\")"
   ]
  },
  {
   "cell_type": "markdown",
   "id": "c8fa316f",
   "metadata": {},
   "source": [
    "#### More examples"
   ]
  },
  {
   "cell_type": "code",
   "execution_count": 12,
   "id": "72f7a623",
   "metadata": {},
   "outputs": [
    {
     "name": "stdout",
     "output_type": "stream",
     "text": [
      "1 453.0 RejHaque\n"
     ]
    }
   ],
   "source": [
    "ID = 1\n",
    "account_balance = 453.0\n",
    "client_name = 'RejHaque'\n",
    "print(ID, account_balance, client_name)\n"
   ]
  },
  {
   "cell_type": "code",
   "execution_count": 13,
   "id": "63d2d7cf",
   "metadata": {},
   "outputs": [
    {
     "ename": "NameError",
     "evalue": "name 'accountbalance' is not defined",
     "output_type": "error",
     "traceback": [
      "\u001b[1;31m---------------------------------------------------------------------------\u001b[0m",
      "\u001b[1;31mNameError\u001b[0m                                 Traceback (most recent call last)",
      "\u001b[1;32m~\\AppData\\Local\\Temp\\ipykernel_7584\\42624076.py\u001b[0m in \u001b[0;36m<module>\u001b[1;34m\u001b[0m\n\u001b[1;32m----> 1\u001b[1;33m \u001b[0mprint\u001b[0m\u001b[1;33m(\u001b[0m\u001b[0mID\u001b[0m\u001b[1;33m,\u001b[0m \u001b[0maccountbalance\u001b[0m\u001b[1;33m,\u001b[0m \u001b[0mclient_name\u001b[0m\u001b[1;33m)\u001b[0m\u001b[1;33m\u001b[0m\u001b[1;33m\u001b[0m\u001b[0m\n\u001b[0m",
      "\u001b[1;31mNameError\u001b[0m: name 'accountbalance' is not defined"
     ]
    }
   ],
   "source": [
    "print(ID, accountbalance, client_name)"
   ]
  },
  {
   "cell_type": "markdown",
   "id": "312bab14",
   "metadata": {},
   "source": [
    "#### print() function and combine text and variables using the + operator to output strings and variable"
   ]
  },
  {
   "cell_type": "code",
   "execution_count": 18,
   "id": "feddf25e",
   "metadata": {},
   "outputs": [
    {
     "name": "stdout",
     "output_type": "stream",
     "text": [
      "AC Name: RejHaque\n"
     ]
    }
   ],
   "source": [
    "print(\"AC Name: \" + client_name)"
   ]
  },
  {
   "cell_type": "markdown",
   "id": "93aa0fd4",
   "metadata": {},
   "source": [
    "#### Modifying variables / Using and Assigning new values"
   ]
  },
  {
   "cell_type": "code",
   "execution_count": 21,
   "id": "79bfcf06",
   "metadata": {},
   "outputs": [
    {
     "name": "stdout",
     "output_type": "stream",
     "text": [
      "24\n"
     ]
    }
   ],
   "source": [
    "ID = 1\n",
    "ID = ID + 23\n",
    "\n",
    "print (ID)"
   ]
  },
  {
   "cell_type": "code",
   "execution_count": 22,
   "id": "712247c1",
   "metadata": {},
   "outputs": [
    {
     "name": "stdout",
     "output_type": "stream",
     "text": [
      "500\n"
     ]
    }
   ],
   "source": [
    "var = 100\n",
    "var = 200 + 300\n",
    "print(var)"
   ]
  },
  {
   "cell_type": "markdown",
   "id": "9ce40d22",
   "metadata": {},
   "source": [
    "### Assignment  1\n",
    "\n",
    "- Formual: area of a triangle\n",
    "- $A = \\frac{1}{2}  * base * height $\n",
    "- Supposing base and height of a triangle is 10 and 12, respectively. \n",
    "- calculate area (A) of the triangle\n",
    "- use varibale names: base, height and A \n"
   ]
  },
  {
   "cell_type": "markdown",
   "id": "ad467cbb",
   "metadata": {},
   "source": [
    "### Assignment 2\n",
    "\n",
    "- Pythagorean theorem: (https://www.bbc.co.uk/bitesize/topics/z93rkqt/articles/zgf8ng8)\n",
    " - $  C = \\sqrt {a^2 + b^2} $ \n",
    " \n",
    "- a =  7\n",
    "- b = 5\n",
    "- Calculate C \n",
    "- Use variables as above"
   ]
  },
  {
   "cell_type": "markdown",
   "id": "46b386e7",
   "metadata": {},
   "source": [
    "### Assignment 3\n",
    "\n",
    "- Create three string variables in Python\n",
    "    - name\n",
    "    - address\n",
    "    - student id\n",
    " \n",
    " - Concatenate these variables (separate by #)\n",
    " - print"
   ]
  },
  {
   "cell_type": "markdown",
   "id": "58f23a93",
   "metadata": {},
   "source": [
    "### Assignment 4\n",
    "\n",
    "\n",
    "- $  C = \\sqrt {a^2 + b^2} $ \n",
    "\n",
    "- subtract 2 from __a__\n",
    "- add 5 to __b__\n",
    "- print C\n",
    "\n",
    "- Take C and Perform floor division by 3\n",
    "- Put the result to D\n",
    "- Print the result (D)\n",
    "\n",
    "\n",
    "- Take D and perform modulo operation by 2\n",
    "- Put the result to E\n",
    "- print the variable E\n",
    "\n"
   ]
  },
  {
   "cell_type": "code",
   "execution_count": null,
   "id": "04d60811",
   "metadata": {},
   "outputs": [],
   "source": []
  }
 ],
 "metadata": {
  "kernelspec": {
   "display_name": "Python 3 (ipykernel)",
   "language": "python",
   "name": "python3"
  },
  "language_info": {
   "codemirror_mode": {
    "name": "ipython",
    "version": 3
   },
   "file_extension": ".py",
   "mimetype": "text/x-python",
   "name": "python",
   "nbconvert_exporter": "python",
   "pygments_lexer": "ipython3",
   "version": "3.9.13"
  }
 },
 "nbformat": 4,
 "nbformat_minor": 5
}
