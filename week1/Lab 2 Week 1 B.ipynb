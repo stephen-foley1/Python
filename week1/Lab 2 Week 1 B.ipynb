{
 "cells": [
  {
   "cell_type": "markdown",
   "id": "ce749212",
   "metadata": {},
   "source": [
    "### Operators\n",
    "\n",
    "- An operator is a symbol of the programming language, which is able to operate on the values.\n",
    "- +, -, *, /, //, %, **\n",
    "- Data and operators when connected together form __expressions__. "
   ]
  },
  {
   "cell_type": "code",
   "execution_count": 1,
   "id": "c5954ec6",
   "metadata": {},
   "outputs": [
    {
     "name": "stdout",
     "output_type": "stream",
     "text": [
      "8\n",
      "-2\n",
      "0.6\n",
      "15\n"
     ]
    }
   ],
   "source": [
    "print (3+5)\n",
    "print (3-5)\n",
    "print (3/5)\n",
    "print (3*5)"
   ]
  },
  {
   "cell_type": "markdown",
   "id": "bf4b09fd",
   "metadata": {},
   "source": [
    "#### exponentiation / power"
   ]
  },
  {
   "cell_type": "code",
   "execution_count": 2,
   "id": "cfb2f36c",
   "metadata": {},
   "outputs": [
    {
     "name": "stdout",
     "output_type": "stream",
     "text": [
      "243\n"
     ]
    }
   ],
   "source": [
    "print (3**5)"
   ]
  },
  {
   "cell_type": "markdown",
   "id": "39faec20",
   "metadata": {},
   "source": [
    "- When both ** arguments are integers, the result is an integer, too; \n",
    "- When at least one ** argument is a float, the result is a float, too\n",
    "\n"
   ]
  },
  {
   "cell_type": "code",
   "execution_count": 3,
   "id": "6801de57",
   "metadata": {},
   "outputs": [
    {
     "name": "stdout",
     "output_type": "stream",
     "text": [
      "243.0\n"
     ]
    }
   ],
   "source": [
    "print (3.0**5)"
   ]
  },
  {
   "cell_type": "markdown",
   "id": "37b0f384",
   "metadata": {},
   "source": [
    "####  floor division / integer division"
   ]
  },
  {
   "cell_type": "code",
   "execution_count": 4,
   "id": "ab704eab",
   "metadata": {},
   "outputs": [
    {
     "name": "stdout",
     "output_type": "stream",
     "text": [
      "2\n",
      "2.0\n",
      "2.0\n",
      "2.0\n"
     ]
    }
   ],
   "source": [
    "print(6 // 3)\n",
    "print(6 // 3.)\n",
    "print(6. // 3)\n",
    "print(6. // 3.)"
   ]
  },
  {
   "cell_type": "code",
   "execution_count": 5,
   "id": "c0bdd9f9",
   "metadata": {},
   "outputs": [
    {
     "name": "stdout",
     "output_type": "stream",
     "text": [
      "1\n",
      "1.0\n"
     ]
    }
   ],
   "source": [
    "print(6 // 4)\n",
    "print(6. // 4)"
   ]
  },
  {
   "cell_type": "code",
   "execution_count": 6,
   "id": "2e236b66",
   "metadata": {},
   "outputs": [
    {
     "name": "stdout",
     "output_type": "stream",
     "text": [
      "-2\n",
      "-2.0\n"
     ]
    }
   ],
   "source": [
    "print(-6 // 4)\n",
    "print(6. // -4)"
   ]
  },
  {
   "cell_type": "markdown",
   "id": "519aa52e",
   "metadata": {},
   "source": [
    "#### remainder (modulo)\n",
    "\n",
    "-  remainder left after the integer division.\n",
    "- "
   ]
  },
  {
   "cell_type": "code",
   "execution_count": 7,
   "id": "1bb1988e",
   "metadata": {},
   "outputs": [
    {
     "name": "stdout",
     "output_type": "stream",
     "text": [
      "2\n"
     ]
    }
   ],
   "source": [
    "print(14 % 4)"
   ]
  },
  {
   "cell_type": "code",
   "execution_count": 10,
   "id": "117a8c49",
   "metadata": {},
   "outputs": [
    {
     "name": "stdout",
     "output_type": "stream",
     "text": [
      "3.0\n",
      "3.5\n"
     ]
    }
   ],
   "source": [
    "print(12 % 4.5)\n",
    "print(12.5 % 4.5)"
   ]
  },
  {
   "cell_type": "markdown",
   "id": "3a744ff9",
   "metadata": {},
   "source": [
    "- How not to divide\n",
    "- As you probably know, division by zero doesn't work."
   ]
  },
  {
   "cell_type": "markdown",
   "id": "e9bf188d",
   "metadata": {},
   "source": [
    "#### Operator Precedence"
   ]
  },
  {
   "cell_type": "code",
   "execution_count": 11,
   "id": "664306c2",
   "metadata": {},
   "outputs": [
    {
     "data": {
      "text/plain": [
       "17"
      ]
     },
     "execution_count": 11,
     "metadata": {},
     "output_type": "execute_result"
    }
   ],
   "source": [
    "2 + 3 * 5"
   ]
  },
  {
   "cell_type": "markdown",
   "id": "431444ba",
   "metadata": {},
   "source": [
    "https://www.w3schools.com/python/python_operators.asp"
   ]
  },
  {
   "cell_type": "markdown",
   "id": "586f6c02",
   "metadata": {},
   "source": [
    "#### Operators and their bindings"
   ]
  },
  {
   "cell_type": "markdown",
   "id": "dee41317",
   "metadata": {},
   "source": [
    "- The binding of the operator determines the order of computations performed by some operators with equal priority\n",
    "- Most of Python's operators have left-sided binding, which means that the calculation of the expression is conducted from left to right.\n",
    "\n",
    "- from left to right: first 9 % 6 gives 3, and then 3 % 2 gives 1;\n",
    "- from right to left: first 6 % 2 gives 0, and then 9 % 0 causes a fatal error."
   ]
  },
  {
   "cell_type": "code",
   "execution_count": 12,
   "id": "58e16549",
   "metadata": {},
   "outputs": [
    {
     "name": "stdout",
     "output_type": "stream",
     "text": [
      "1\n"
     ]
    }
   ],
   "source": [
    "print(9 % 6 % 2)\n",
    "\n"
   ]
  },
  {
   "cell_type": "code",
   "execution_count": 13,
   "id": "1e18031e",
   "metadata": {},
   "outputs": [
    {
     "name": "stdout",
     "output_type": "stream",
     "text": [
      "256\n"
     ]
    }
   ],
   "source": [
    "print(2 ** 2 ** 3)"
   ]
  },
  {
   "cell_type": "markdown",
   "id": "201f311a",
   "metadata": {},
   "source": [
    "- the exponentiation operator uses right-sided binding."
   ]
  },
  {
   "cell_type": "markdown",
   "id": "02dc98ba",
   "metadata": {},
   "source": [
    "### Operators and parentheses\n",
    "\n",
    "- subexpressions in parentheses are always calculated first."
   ]
  },
  {
   "cell_type": "code",
   "execution_count": 14,
   "id": "c701ca27",
   "metadata": {},
   "outputs": [
    {
     "name": "stdout",
     "output_type": "stream",
     "text": [
      "10.0\n"
     ]
    }
   ],
   "source": [
    "print((5 * ((25 % 13) + 100) / (2 * 13)) // 2)\n",
    "\n"
   ]
  },
  {
   "cell_type": "code",
   "execution_count": null,
   "id": "9436b702",
   "metadata": {},
   "outputs": [],
   "source": []
  }
 ],
 "metadata": {
  "kernelspec": {
   "display_name": "Python 3 (ipykernel)",
   "language": "python",
   "name": "python3"
  },
  "language_info": {
   "codemirror_mode": {
    "name": "ipython",
    "version": 3
   },
   "file_extension": ".py",
   "mimetype": "text/x-python",
   "name": "python",
   "nbconvert_exporter": "python",
   "pygments_lexer": "ipython3",
   "version": "3.9.13"
  }
 },
 "nbformat": 4,
 "nbformat_minor": 5
}
