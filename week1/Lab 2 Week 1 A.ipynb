{
 "cells": [
  {
   "cell_type": "markdown",
   "id": "ed207e9e",
   "metadata": {},
   "source": [
    "# Literals"
   ]
  },
  {
   "cell_type": "markdown",
   "id": "d30dee62",
   "metadata": {},
   "source": [
    "##### Boolean values\n",
    "\n",
    "- There are two additnal lietrars in Python\n",
    "- If one number is greater than another, the question results in the creation of some specific data: a Boolean\n"
   ]
  },
  {
   "cell_type": "code",
   "execution_count": 2,
   "id": "5b02440d",
   "metadata": {},
   "outputs": [
    {
     "name": "stdout",
     "output_type": "stream",
     "text": [
      "False\n"
     ]
    }
   ],
   "source": [
    "print (1>2)\n",
    "print (1=2)"
   ]
  },
  {
   "cell_type": "code",
   "execution_count": 5,
   "id": "128ec499",
   "metadata": {},
   "outputs": [
    {
     "name": "stdout",
     "output_type": "stream",
     "text": [
      "True\n",
      "True\n"
     ]
    }
   ],
   "source": [
    "print (2>1)\n",
    "print (\"A\" == \"A\")"
   ]
  },
  {
   "cell_type": "code",
   "execution_count": 7,
   "id": "b3447ebd",
   "metadata": {},
   "outputs": [
    {
     "name": "stdout",
     "output_type": "stream",
     "text": [
      "True\n",
      "False\n"
     ]
    }
   ],
   "source": [
    "print(True > False)\n",
    "print(True < False)"
   ]
  },
  {
   "cell_type": "markdown",
   "id": "8b5db946",
   "metadata": {},
   "source": [
    "### Escape Characters\n",
    "\n",
    "\n"
   ]
  },
  {
   "cell_type": "code",
   "execution_count": 9,
   "id": "51ffdfe7",
   "metadata": {},
   "outputs": [
    {
     "name": "stdout",
     "output_type": "stream",
     "text": [
      "I'm happy.\n",
      "I'm happy.\n"
     ]
    }
   ],
   "source": [
    "# How rto weite I\\'m happy.\n",
    "\n",
    "print ('I\\'m happy.')\n",
    "\n",
    "print (\"I'm happy.\")"
   ]
  },
  {
   "cell_type": "markdown",
   "id": "c1a82e84",
   "metadata": {},
   "source": [
    "### Summary of Learning:\n",
    "    \n",
    "- Literals are notations for representing some fixed values in code. \n",
    "- Python has various types of literals\n",
    "    - numeric literals, e.g., 321)\n",
    "    - string literals, e.g., \"I am a student\")\n",
    "    - boolean literals.\n",
    "\n",
    "- The number systems:\n",
    "    - binary base 2\n",
    "    - Octal base 8\n",
    "    - Hex base 16\n",
    "     \n",
    "- Integers: written without a fractional component, e.g., 256, or -1 (negative integers).\n",
    "\n",
    "- Floating-point numbers (or floats): contain a fractional component, e.g., 2.34.\n",
    "\n",
    "- Escape characters:\n",
    "    \n",
    "- print \n",
    "    - arguments\n",
    "    - keyword argumnts\n",
    "\n",
    "- Boolean values are the two constant objects True and False used to represent truth values (in numeric contexts 1 is True, while 0 is False)."
   ]
  },
  {
   "cell_type": "code",
   "execution_count": null,
   "id": "f808764a",
   "metadata": {},
   "outputs": [],
   "source": []
  }
 ],
 "metadata": {
  "kernelspec": {
   "display_name": "Python 3 (ipykernel)",
   "language": "python",
   "name": "python3"
  },
  "language_info": {
   "codemirror_mode": {
    "name": "ipython",
    "version": 3
   },
   "file_extension": ".py",
   "mimetype": "text/x-python",
   "name": "python",
   "nbconvert_exporter": "python",
   "pygments_lexer": "ipython3",
   "version": "3.9.13"
  }
 },
 "nbformat": 4,
 "nbformat_minor": 5
}
