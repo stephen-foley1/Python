{
 "cells": [
  {
   "cell_type": "markdown",
   "id": "751422a4",
   "metadata": {},
   "source": [
    "## Your First Program"
   ]
  },
  {
   "cell_type": "code",
   "execution_count": 1,
   "id": "177fc029",
   "metadata": {},
   "outputs": [
    {
     "name": "stdout",
     "output_type": "stream",
     "text": [
      "Hello!\n"
     ]
    }
   ],
   "source": [
    "print(\"Hello!\")"
   ]
  },
  {
   "cell_type": "markdown",
   "id": "ab9cf82b",
   "metadata": {},
   "source": [
    "#### This is a one-line program\n",
    "\n",
    "- print\n",
    "- an opening parenthesis\n",
    "- a quotation mark\n",
    "- a line of text: Hello!\n",
    "- another quotation mark;\n",
    "- a closing parenthesis"
   ]
  },
  {
   "cell_type": "markdown",
   "id": "af1cb227",
   "metadata": {},
   "source": [
    "## Print \n",
    "\n",
    "- A built-in function\n",
    "- Argument - a line of text or string\n",
    "- This string is delimited with quotes - in fact, the quotes make the string"
   ]
  },
  {
   "cell_type": "markdown",
   "id": "bb056d1f",
   "metadata": {},
   "source": [
    "##### What is the operation the print()?\n",
    "\n",
    "- takes its arguments (zero or more)\n",
    "- converts them into human-readable form.Anything you put into the print() function will appear on your screen.\n",
    "\n",
    "##### What arguments does print() expect?\n",
    "\n",
    " - Strings, numbers, characters, logical values, objects\n",
    "\n",
    "##### What value does the print() function return?\n",
    "  \n",
    "  - None."
   ]
  },
  {
   "cell_type": "markdown",
   "id": "6eea34f4",
   "metadata": {},
   "source": [
    "### Assignment 1\n",
    "- Use Python's print function twice -- for printing (i) your name and (ii) your student ID. \n",
    "\n",
    "### Assignment 2\n",
    "- Use Python's print function three times.\n",
    "    - print your name\n",
    "    - print nothing \n",
    "    - print your student ID. \n",
    "\n"
   ]
  },
  {
   "cell_type": "code",
   "execution_count": null,
   "id": "4898ea39",
   "metadata": {},
   "outputs": [],
   "source": []
  },
  {
   "cell_type": "markdown",
   "id": "c1fbb314",
   "metadata": {},
   "source": [
    "### The print() function - the escape and newline characters"
   ]
  },
  {
   "cell_type": "code",
   "execution_count": 5,
   "id": "b12004cb",
   "metadata": {},
   "outputs": [
    {
     "name": "stdout",
     "output_type": "stream",
     "text": [
      "SETU Carlow \n",
      "Kilkenny Road\n"
     ]
    }
   ],
   "source": [
    "print(\"SETU Carlow \\nKilkenny Road\")"
   ]
  },
  {
   "cell_type": "markdown",
   "id": "9a1fda78",
   "metadata": {},
   "source": [
    "- The backslash (\\\\) has a very special meaning\n",
    "- The backslash (\\\\) is called the escape character.\n",
    "- It indicates nothing in itself\n",
    "- However, when combined with next character it has a different meaning\n",
    "\n",
    "- __n__ placed after the backslash comes from the word __newline__\n",
    "- Both the backslash and the __n__ form a special symbol named __a newline character__"
   ]
  },
  {
   "cell_type": "markdown",
   "id": "a2898f44",
   "metadata": {},
   "source": [
    "#### Test\n"
   ]
  },
  {
   "cell_type": "code",
   "execution_count": 8,
   "id": "530643e4",
   "metadata": {},
   "outputs": [
    {
     "name": "stdout",
     "output_type": "stream",
     "text": [
      "\\\n",
      "SETU Carlow \tKilkenny Road\n"
     ]
    }
   ],
   "source": [
    "print(\"\\\\\")\n",
    "print(\"SETU Carlow \\tKilkenny Road\")"
   ]
  },
  {
   "cell_type": "markdown",
   "id": "486e038d",
   "metadata": {},
   "source": [
    "### Multiple Argumnets\n",
    "- print() function when invoked with more than one argument outputs them all on one line\n",
    "- print() function puts a space between the outputted arguments on its own initiative."
   ]
  },
  {
   "cell_type": "code",
   "execution_count": 10,
   "id": "d4e09709",
   "metadata": {},
   "outputs": [
    {
     "name": "stdout",
     "output_type": "stream",
     "text": [
      "SETU Carlow Kilkenny Road Carlow\n"
     ]
    }
   ],
   "source": [
    "print(\"SETU Carlow\", \"Kilkenny Road\", \"Carlow\")"
   ]
  },
  {
   "cell_type": "markdown",
   "id": "34623e96",
   "metadata": {},
   "source": [
    "### The keyword arguments"
   ]
  },
  {
   "cell_type": "markdown",
   "id": "28cc269c",
   "metadata": {},
   "source": [
    "- a keyword argument consists of three elements\n",
    "    - a keyword identifying the argument (end here)\n",
    "    - an equal sign (=)\n",
    "    - a value assigned to that argument;\n",
    "    \n",
    "- Any keyword arguments have to be put after the last positional argument (this is very important)\n"
   ]
  },
  {
   "cell_type": "code",
   "execution_count": 18,
   "id": "1044149c",
   "metadata": {},
   "outputs": [
    {
     "name": "stdout",
     "output_type": "stream",
     "text": [
      "I study in SETU Carlow. I study in SETU Carlow. "
     ]
    }
   ],
   "source": [
    "print(\"I study in SETU\", \"Carlow.\", end=\" \")  # default end=\"\\n\"\n",
    "print(\"I study in SETU\", \"Carlow.\", end=\" \") "
   ]
  },
  {
   "cell_type": "code",
   "execution_count": 21,
   "id": "7346fa9e",
   "metadata": {},
   "outputs": [
    {
     "name": "stdout",
     "output_type": "stream",
     "text": [
      "I study in SETU Carlow, Kilkeny Road Carlow.\n"
     ]
    }
   ],
   "source": [
    "print(\"I study in SETU\", \"Carlow, \", end=\"\")  # default end=\"\\n\"\n",
    "print(\"Kilkeny Road\", \"Carlow.\", end=\"\\n\") \n",
    "    \n",
    "#no newlines have been sent to the output"
   ]
  },
  {
   "cell_type": "code",
   "execution_count": 23,
   "id": "85d42a33",
   "metadata": {},
   "outputs": [
    {
     "name": "stdout",
     "output_type": "stream",
     "text": [
      "I-study-in-SETU-Carlow.\n"
     ]
    }
   ],
   "source": [
    "print(\"I\",  \"study\", \"in\",  \"SETU\", \"Carlow.\", sep=\"-\")  # default sep=\" \"\n"
   ]
  },
  {
   "cell_type": "code",
   "execution_count": null,
   "id": "14dbe995",
   "metadata": {},
   "outputs": [],
   "source": []
  }
 ],
 "metadata": {
  "kernelspec": {
   "display_name": "Python 3 (ipykernel)",
   "language": "python",
   "name": "python3"
  },
  "language_info": {
   "codemirror_mode": {
    "name": "ipython",
    "version": 3
   },
   "file_extension": ".py",
   "mimetype": "text/x-python",
   "name": "python",
   "nbconvert_exporter": "python",
   "pygments_lexer": "ipython3",
   "version": "3.10.9"
  }
 },
 "nbformat": 4,
 "nbformat_minor": 5
}
