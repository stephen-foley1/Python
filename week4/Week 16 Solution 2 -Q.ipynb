{
 "cells": [
  {
   "cell_type": "markdown",
   "metadata": {},
   "source": [
    "### Assignment 2\n",
    "\n",
    "<pre>\n",
    "\n",
    "Consider the text below and answer the questions 1--8.\n",
    "\n",
    "wikitext = \"\"\"Gaelic football (Irish: Peil Ghaelach; short name Peil), commonly known as simply Gaelic, GAA or Football is an Irish team sport. \n",
    "It is played between two teams of 15 players on a rectangular grass pitch. \n",
    "The objective of the sport is to score by kicking or punching the ball into the other team's goals (3 points) or between two upright posts above the goals and over a crossbar 2.5 metres (8 ft 2 in) above the ground (1 point). \n",
    "Players advance the football up the field with a combination of carrying, bouncing, kicking, hand-passing, and soloing (dropping the ball and then toe-kicking the ball upward into the hands). \n",
    "In the game, two types of scores are possible: points and goals. \n",
    "A point is awarded for kicking or hand-passing the ball over the crossbar , signalled by the umpire raising a white flag.\n",
    "A goal is awarded for kicking the ball under the crossbar into the net (the ball cannot be hand-passed into the goal), signalled by the umpire raising a green flag. \n",
    "Positions in Gaelic football are similar to those in other football codes, and comprise one goalkeeper, six backs, two midfielders, and six forwards, with a variable number of substitutes. \n",
    "Gaelic football is one of four sports (collectively referred to as the \"Gaelic games\") controlled by the Gaelic Athletic Association (GAA), the largest sporting organisation in Ireland. \n",
    "Along with hurling and camogie, Gaelic football is one of the few remaining strictly amateur sports in the world, with players, coaches, and managers prohibited from receiving any form of payment.\n",
    "Gaelic football is mainly played on the island of Ireland, although units of the Association exist in Great Britain, mainland Europe, North America, Africa, Asia, and Australia.\n",
    "\"\"\"\n",
    "\n",
    "1.\tFind how many times “is” appear in the text.\n",
    "2.\tPrint index of the word “kicking” in the text\n",
    "3.\tCount total number of characters and tokens in the text.\n",
    "4.\tPrint total number of unique characters in the text.\n",
    "5.\tPrint total number of unique tokens in the text.\n",
    "6.\tSeparate punctuations from tokens (tokenize). Print tokenised text.\n",
    "7.\tCount unique tokens in the tokenised text.\n",
    "8.\tLowercase the tokenised text and Count unique tokens.\n",
    "\n",
    "9.  Take the lowercased and tokenised text from (8). (i) Extract every fifth word from end. Print.  (i) Extract every third word from the beginning. Print.  (iii) Extract every second word starting from \"grass\" and ending at \"golakeeper\" (including \"goalkeeper\"). Print.\n",
    "</pre>"
   ]
  },
  {
   "cell_type": "code",
   "execution_count": 3,
   "metadata": {},
   "outputs": [
    {
     "name": "stdout",
     "output_type": "stream",
     "text": [
      "Gaelic football (Irish: Peil Ghaelach; short name Peil), commonly known as simply Gaelic, GAA or Football is an Irish team sport. \n",
      "It is played between two teams of 15 players on a rectangular grass pitch. \n",
      "The objective of the sport is to score by kicking or punching the ball into the other team's goals (3 points) or between two upright posts above the goals and over a crossbar 2.5 metres (8 ft 2 in) above the ground (1 point). \n",
      "Players advance the football up the field with a combination of carrying, bouncing, kicking, hand-passing, and soloing (dropping the ball and then toe-kicking the ball upward into the hands). \n",
      "In the game, two types of scores are possible: points and goals. \n",
      "A point is awarded for kicking or hand-passing the ball over the crossbar , signalled by the umpire raising a white flag.\n",
      "A goal is awarded for kicking the ball under the crossbar into the net (the ball cannot be hand-passed into the goal), signalled by the umpire raising a green flag. \n",
      "Positions in Gaelic football are similar to those in other football codes, and comprise one goalkeeper, six backs, two midfielders, and six forwards, with a variable number of substitutes. \n",
      "Gaelic football is one of four sports (collectively referred to as the \"Gaelic games\") controlled by the Gaelic Athletic Association (GAA), the largest sporting organisation in Ireland. \n",
      "Along with hurling and camogie, Gaelic football is one of the few remaining strictly amateur sports in the world, with players, coaches, and managers prohibited from receiving any form of payment.\n",
      "Gaelic football is mainly played on the island of Ireland, although units of the Association exist in Great Britain, mainland Europe, North America, Africa, Asia, and Australia.\n",
      "\n"
     ]
    }
   ],
   "source": [
    "wikitext = \"\"\"Gaelic football (Irish: Peil Ghaelach; short name Peil), commonly known as simply Gaelic, GAA or Football is an Irish team sport. \n",
    "It is played between two teams of 15 players on a rectangular grass pitch. \n",
    "The objective of the sport is to score by kicking or punching the ball into the other team's goals (3 points) or between two upright posts above the goals and over a crossbar 2.5 metres (8 ft 2 in) above the ground (1 point). \n",
    "Players advance the football up the field with a combination of carrying, bouncing, kicking, hand-passing, and soloing (dropping the ball and then toe-kicking the ball upward into the hands). \n",
    "In the game, two types of scores are possible: points and goals. \n",
    "A point is awarded for kicking or hand-passing the ball over the crossbar , signalled by the umpire raising a white flag.\n",
    "A goal is awarded for kicking the ball under the crossbar into the net (the ball cannot be hand-passed into the goal), signalled by the umpire raising a green flag. \n",
    "Positions in Gaelic football are similar to those in other football codes, and comprise one goalkeeper, six backs, two midfielders, and six forwards, with a variable number of substitutes. \n",
    "Gaelic football is one of four sports (collectively referred to as the \"Gaelic games\") controlled by the Gaelic Athletic Association (GAA), the largest sporting organisation in Ireland. \n",
    "Along with hurling and camogie, Gaelic football is one of the few remaining strictly amateur sports in the world, with players, coaches, and managers prohibited from receiving any form of payment.\n",
    "Gaelic football is mainly played on the island of Ireland, although units of the Association exist in Great Britain, mainland Europe, North America, Africa, Asia, and Australia.\n",
    "\"\"\"\n",
    "\n",
    "print (wikitext)\n",
    "\n"
   ]
  },
  {
   "cell_type": "markdown",
   "metadata": {},
   "source": [
    "##### Find how many times “is” appear in the text"
   ]
  },
  {
   "cell_type": "code",
   "execution_count": 4,
   "metadata": {},
   "outputs": [
    {
     "data": {
      "text/plain": [
       "16"
      ]
     },
     "execution_count": 4,
     "metadata": {},
     "output_type": "execute_result"
    }
   ],
   "source": [
    "wikitext.count(\"is\")"
   ]
  },
  {
   "cell_type": "markdown",
   "metadata": {},
   "source": [
    "##### Print index of the word “kicking” in the text"
   ]
  },
  {
   "cell_type": "code",
   "execution_count": 5,
   "metadata": {},
   "outputs": [
    {
     "data": {
      "text/plain": [
       "249"
      ]
     },
     "execution_count": 5,
     "metadata": {},
     "output_type": "execute_result"
    }
   ],
   "source": [
    "wikitext.index(\"kicking\")"
   ]
  },
  {
   "cell_type": "markdown",
   "metadata": {},
   "source": [
    "##### Count total number of characters and tokens in the text."
   ]
  },
  {
   "cell_type": "code",
   "execution_count": 6,
   "metadata": {},
   "outputs": [
    {
     "name": "stdout",
     "output_type": "stream",
     "text": [
      "total number of chars: 1733\n",
      "['Gaelic', 'football', '(Irish:', 'Peil', 'Ghaelach;', 'short', 'name', 'Peil),', 'commonly', 'known', 'as', 'simply', 'Gaelic,', 'GAA', 'or', 'Football', 'is', 'an', 'Irish', 'team', 'sport.', 'It', 'is', 'played', 'between', 'two', 'teams', 'of', '15', 'players', 'on', 'a', 'rectangular', 'grass', 'pitch.', 'The', 'objective', 'of', 'the', 'sport', 'is', 'to', 'score', 'by', 'kicking', 'or', 'punching', 'the', 'ball', 'into', 'the', 'other', \"team's\", 'goals', '(3', 'points)', 'or', 'between', 'two', 'upright', 'posts', 'above', 'the', 'goals', 'and', 'over', 'a', 'crossbar', '2.5', 'metres', '(8', 'ft', '2', 'in)', 'above', 'the', 'ground', '(1', 'point).', 'Players', 'advance', 'the', 'football', 'up', 'the', 'field', 'with', 'a', 'combination', 'of', 'carrying,', 'bouncing,', 'kicking,', 'hand-passing,', 'and', 'soloing', '(dropping', 'the', 'ball', 'and', 'then', 'toe-kicking', 'the', 'ball', 'upward', 'into', 'the', 'hands).', 'In', 'the', 'game,', 'two', 'types', 'of', 'scores', 'are', 'possible:', 'points', 'and', 'goals.', 'A', 'point', 'is', 'awarded', 'for', 'kicking', 'or', 'hand-passing', 'the', 'ball', 'over', 'the', 'crossbar', ',', 'signalled', 'by', 'the', 'umpire', 'raising', 'a', 'white', 'flag.', 'A', 'goal', 'is', 'awarded', 'for', 'kicking', 'the', 'ball', 'under', 'the', 'crossbar', 'into', 'the', 'net', '(the', 'ball', 'cannot', 'be', 'hand-passed', 'into', 'the', 'goal),', 'signalled', 'by', 'the', 'umpire', 'raising', 'a', 'green', 'flag.', 'Positions', 'in', 'Gaelic', 'football', 'are', 'similar', 'to', 'those', 'in', 'other', 'football', 'codes,', 'and', 'comprise', 'one', 'goalkeeper,', 'six', 'backs,', 'two', 'midfielders,', 'and', 'six', 'forwards,', 'with', 'a', 'variable', 'number', 'of', 'substitutes.', 'Gaelic', 'football', 'is', 'one', 'of', 'four', 'sports', '(collectively', 'referred', 'to', 'as', 'the', '\"Gaelic', 'games\")', 'controlled', 'by', 'the', 'Gaelic', 'Athletic', 'Association', '(GAA),', 'the', 'largest', 'sporting', 'organisation', 'in', 'Ireland.', 'Along', 'with', 'hurling', 'and', 'camogie,', 'Gaelic', 'football', 'is', 'one', 'of', 'the', 'few', 'remaining', 'strictly', 'amateur', 'sports', 'in', 'the', 'world,', 'with', 'players,', 'coaches,', 'and', 'managers', 'prohibited', 'from', 'receiving', 'any', 'form', 'of', 'payment.', 'Gaelic', 'football', 'is', 'mainly', 'played', 'on', 'the', 'island', 'of', 'Ireland,', 'although', 'units', 'of', 'the', 'Association', 'exist', 'in', 'Great', 'Britain,', 'mainland', 'Europe,', 'North', 'America,', 'Africa,', 'Asia,', 'and', 'Australia.']\n",
      "total number of tokens: 286\n"
     ]
    }
   ],
   "source": [
    "# characters\n",
    "print (\"total number of chars: %d\" % len(wikitext))\n",
    "\n",
    "print (wikitext.split())\n",
    "# tokens\n",
    "print (\"total number of tokens: %d\" % len(wikitext.split()))\n",
    "\n",
    "\n",
    "\n",
    "\n",
    "\n",
    "\n",
    "\n",
    "\n",
    "\n",
    "\n",
    "\n",
    "\n",
    "\n",
    "\n",
    "\n"
   ]
  },
  {
   "cell_type": "markdown",
   "metadata": {},
   "source": [
    "##### Print total number of unique characters in the text."
   ]
  },
  {
   "cell_type": "code",
   "execution_count": 7,
   "metadata": {},
   "outputs": [
    {
     "name": "stdout",
     "output_type": "stream",
     "text": [
      "total number of unique chars: 49\n"
     ]
    }
   ],
   "source": [
    "# charset = set()\n",
    "charset = []\n",
    "\n",
    "for char in wikitext:\n",
    "    if char not in charset:\n",
    "        charset.append(char)\n",
    "\n",
    "print (\"total number of unique chars: %d\" % len(charset))\n",
    "\n",
    "\n",
    "\n",
    "\n",
    "\n",
    "\n",
    "\n",
    "\n",
    "\n",
    "\n",
    "\n",
    "\n",
    "\n"
   ]
  },
  {
   "cell_type": "markdown",
   "metadata": {},
   "source": [
    "##### Print total number of unique tokens in the text."
   ]
  },
  {
   "cell_type": "code",
   "execution_count": 9,
   "metadata": {},
   "outputs": [
    {
     "name": "stdout",
     "output_type": "stream",
     "text": [
      "['Gaelic', 'football', '(Irish:', 'Peil', 'Ghaelach;', 'short', 'name', 'Peil),', 'commonly', 'known', 'as', 'simply', 'Gaelic,', 'GAA', 'or', 'Football', 'is', 'an', 'Irish', 'team', 'sport.', 'It', 'is', 'played', 'between', 'two', 'teams', 'of', '15', 'players', 'on', 'a', 'rectangular', 'grass', 'pitch.', 'The', 'objective', 'of', 'the', 'sport', 'is', 'to', 'score', 'by', 'kicking', 'or', 'punching', 'the', 'ball', 'into', 'the', 'other', \"team's\", 'goals', '(3', 'points)', 'or', 'between', 'two', 'upright', 'posts', 'above', 'the', 'goals', 'and', 'over', 'a', 'crossbar', '2.5', 'metres', '(8', 'ft', '2', 'in)', 'above', 'the', 'ground', '(1', 'point).', 'Players', 'advance', 'the', 'football', 'up', 'the', 'field', 'with', 'a', 'combination', 'of', 'carrying,', 'bouncing,', 'kicking,', 'hand-passing,', 'and', 'soloing', '(dropping', 'the', 'ball', 'and', 'then', 'toe-kicking', 'the', 'ball', 'upward', 'into', 'the', 'hands).', 'In', 'the', 'game,', 'two', 'types', 'of', 'scores', 'are', 'possible:', 'points', 'and', 'goals.', 'A', 'point', 'is', 'awarded', 'for', 'kicking', 'or', 'hand-passing', 'the', 'ball', 'over', 'the', 'crossbar', ',', 'signalled', 'by', 'the', 'umpire', 'raising', 'a', 'white', 'flag.', 'A', 'goal', 'is', 'awarded', 'for', 'kicking', 'the', 'ball', 'under', 'the', 'crossbar', 'into', 'the', 'net', '(the', 'ball', 'cannot', 'be', 'hand-passed', 'into', 'the', 'goal),', 'signalled', 'by', 'the', 'umpire', 'raising', 'a', 'green', 'flag.', 'Positions', 'in', 'Gaelic', 'football', 'are', 'similar', 'to', 'those', 'in', 'other', 'football', 'codes,', 'and', 'comprise', 'one', 'goalkeeper,', 'six', 'backs,', 'two', 'midfielders,', 'and', 'six', 'forwards,', 'with', 'a', 'variable', 'number', 'of', 'substitutes.', 'Gaelic', 'football', 'is', 'one', 'of', 'four', 'sports', '(collectively', 'referred', 'to', 'as', 'the', '\"Gaelic', 'games\")', 'controlled', 'by', 'the', 'Gaelic', 'Athletic', 'Association', '(GAA),', 'the', 'largest', 'sporting', 'organisation', 'in', 'Ireland.', 'Along', 'with', 'hurling', 'and', 'camogie,', 'Gaelic', 'football', 'is', 'one', 'of', 'the', 'few', 'remaining', 'strictly', 'amateur', 'sports', 'in', 'the', 'world,', 'with', 'players,', 'coaches,', 'and', 'managers', 'prohibited', 'from', 'receiving', 'any', 'form', 'of', 'payment.', 'Gaelic', 'football', 'is', 'mainly', 'played', 'on', 'the', 'island', 'of', 'Ireland,', 'although', 'units', 'of', 'the', 'Association', 'exist', 'in', 'Great', 'Britain,', 'mainland', 'Europe,', 'North', 'America,', 'Africa,', 'Asia,', 'and', 'Australia.']\n",
      "['Gaelic', 'football', '(Irish:', 'Peil', 'Ghaelach;', 'short', 'name', 'Peil),', 'commonly', 'known', 'as', 'simply', 'Gaelic,', 'GAA', 'or', 'Football', 'is', 'an', 'Irish', 'team', 'sport.', 'It', 'played', 'between', 'two', 'teams', 'of', '15', 'players', 'on', 'a', 'rectangular', 'grass', 'pitch.', 'The', 'objective', 'the', 'sport', 'to', 'score', 'by', 'kicking', 'punching', 'ball', 'into', 'other', \"team's\", 'goals', '(3', 'points)', 'upright', 'posts', 'above', 'and', 'over', 'crossbar', '2.5', 'metres', '(8', 'ft', '2', 'in)', 'ground', '(1', 'point).', 'Players', 'advance', 'up', 'field', 'with', 'combination', 'carrying,', 'bouncing,', 'kicking,', 'hand-passing,', 'soloing', '(dropping', 'then', 'toe-kicking', 'upward', 'hands).', 'In', 'game,', 'types', 'scores', 'are', 'possible:', 'points', 'goals.', 'A', 'point', 'awarded', 'for', 'hand-passing', ',', 'signalled', 'umpire', 'raising', 'white', 'flag.', 'goal', 'under', 'net', '(the', 'cannot', 'be', 'hand-passed', 'goal),', 'green', 'Positions', 'in', 'similar', 'those', 'codes,', 'comprise', 'one', 'goalkeeper,', 'six', 'backs,', 'midfielders,', 'forwards,', 'variable', 'number', 'substitutes.', 'four', 'sports', '(collectively', 'referred', '\"Gaelic', 'games\")', 'controlled', 'Athletic', 'Association', '(GAA),', 'largest', 'sporting', 'organisation', 'Ireland.', 'Along', 'hurling', 'camogie,', 'few', 'remaining', 'strictly', 'amateur', 'world,', 'players,', 'coaches,', 'managers', 'prohibited', 'from', 'receiving', 'any', 'form', 'payment.', 'mainly', 'island', 'Ireland,', 'although', 'units', 'exist', 'Great', 'Britain,', 'mainland', 'Europe,', 'North', 'America,', 'Africa,', 'Asia,', 'Australia.']\n",
      "total number of unique words: 170\n"
     ]
    }
   ],
   "source": [
    "vocabulary = []\n",
    "\n",
    "list_of_words = wikitext.split()\n",
    "\n",
    "print (list_of_words)\n",
    "\n",
    "for token in list_of_words:\n",
    "    if token not in vocabulary:\n",
    "        vocabulary.append(token)\n",
    "\n",
    "print (vocabulary)\n",
    "print (\"total number of unique words: %d\" % len(vocabulary))"
   ]
  },
  {
   "cell_type": "markdown",
   "metadata": {},
   "source": [
    "##### Separate punctuations from tokens (tokenize). Print tokenised text."
   ]
  },
  {
   "cell_type": "code",
   "execution_count": 7,
   "metadata": {},
   "outputs": [
    {
     "name": "stdout",
     "output_type": "stream",
     "text": [
      "Tokenised output: \n",
      "\n",
      "\n",
      "Gaelic football ( Irish : Peil Ghaelach ; short name Peil )  , commonly known as simply Gaelic , GAA or Football is an Irish team sport . It is played between two teams of 15 players on a rectangular grass pitch . The objective of the sport is to score by kicking or punching the ball into the other team ' s goals ( 3 points ) or between two upright posts above the goals and over a crossbar 2 . 5 metres ( 8 ft 2 in ) above the ground ( 1 point )  . Players advance the football up the field with a combination of carrying , bouncing , kicking , hand - passing , and soloing ( dropping the ball and then toe - kicking the ball upward into the hands )  . In the game , two types of scores are possible : points and goals . A point is awarded for kicking or hand - passing the ball over the crossbar , signalled by the umpire raising a white flag . A goal is awarded for kicking the ball under the crossbar into the net ( the ball cannot be hand - passed into the goal )  , signalled by the umpire raising a green flag . Positions in Gaelic football are similar to those in other football codes , and comprise one goalkeeper , six backs , two midfielders , and six forwards , with a variable number of substitutes . Gaelic football is one of four sports ( collectively referred to as the \" Gaelic games \"  ) controlled by the Gaelic Athletic Association ( GAA )  , the largest sporting organisation in Ireland . Along with hurling and camogie , Gaelic football is one of the few remaining strictly amateur sports in the world , with players , coaches , and managers prohibited from receiving any form of payment . Gaelic football is mainly played on the island of Ireland , although units of the Association exist in Great Britain , mainland Europe , North America , Africa , Asia , and Australia . \n"
     ]
    }
   ],
   "source": [
    "# Method 1\n",
    "\n",
    "punct = ['!', '\"', '#', '$', '%', '&', \"'\", '(', ')', '*', '+', ',', '-', '.', '/', ':', ';', '<', '=', '>', '?', '@', '[', '\\\\', ']', '^', '_', '`', '{', '|', '}', '~']\n",
    "\n",
    "def simpletokeniser(word):\n",
    "    for p in punct:\n",
    "        word = word.replace(p,\" \"+p+\" \") #  Australia. = Ausralia . \n",
    "        \n",
    "    return word.strip()\n",
    "\n",
    "\n",
    "tokenised_wiki_text = \"\"\n",
    "for token in list_of_words:\n",
    "        tokenised_wiki_text+=simpletokeniser(token)+\" \"\n",
    "\n",
    "\n",
    "\n",
    "# tokenised_wiki_text= tokenised_wiki_text.replace(\"  \",\" \")\n",
    "\n",
    "print (\"Tokenised output: \\n\\n\")\n",
    "print(tokenised_wiki_text)\n",
    " "
   ]
  },
  {
   "cell_type": "code",
   "execution_count": 8,
   "metadata": {},
   "outputs": [
    {
     "name": "stdout",
     "output_type": "stream",
     "text": [
      "Tokenised output:\n",
      "\n",
      "\n",
      "Gaelic football  ( Irish :  Peil Ghaelach ;  short name Peil )  ,  commonly known as simply Gaelic ,  GAA or Football is an Irish team sport .  \n",
      "It is played between two teams of 15 players on a rectangular grass pitch .  \n",
      "The objective of the sport is to score by kicking or punching the ball into the other team ' s goals  ( 3 points )  or between two upright posts above the goals and over a crossbar 2 . 5 metres  ( 8 ft 2 in )  above the ground  ( 1 point )  .  \n",
      "Players advance the football up the field with a combination of carrying ,  bouncing ,  kicking ,  hand - passing ,  and soloing  ( dropping the ball and then toe - kicking the ball upward into the hands )  .  \n",
      "In the game ,  two types of scores are possible :  points and goals .  \n",
      "A point is awarded for kicking or hand - passing the ball over the crossbar  ,  signalled by the umpire raising a white flag . \n",
      "A goal is awarded for kicking the ball under the crossbar into the net  ( the ball cannot be hand - passed into the goal )  ,  signalled by the umpire raising a green flag .  \n",
      "Positions in Gaelic football are similar to those in other football codes ,  and comprise one goalkeeper ,  six backs ,  two midfielders ,  and six forwards ,  with a variable number of substitutes .  \n",
      "Gaelic football is one of four sports  ( collectively referred to as the  \" Gaelic games \"  )  controlled by the Gaelic Athletic Association  ( GAA )  ,  the largest sporting organisation in Ireland .  \n",
      "Along with hurling and camogie ,  Gaelic football is one of the few remaining strictly amateur sports in the world ,  with players ,  coaches ,  and managers prohibited from receiving any form of payment . \n",
      "Gaelic football is mainly played on the island of Ireland ,  although units of the Association exist in Great Britain ,  mainland Europe ,  North America ,  Africa ,  Asia ,  and Australia . \n",
      "\n"
     ]
    }
   ],
   "source": [
    "# Method 2\n",
    "\n",
    "punct = ['!', '\"', '#', '$', '%', '&', \"'\", '(', ')', '*', '+', ',', '-', '.', '/', ':', ';', '<', '=', '>', '?', '@', '[', '\\\\', ']', '^', '_', '`', '{', '|', '}', '~']\n",
    "\n",
    "tokenised_wiki_text = \"\"\n",
    "for char in wikitext:\n",
    "    if char in punct:\n",
    "        outchar = \" %s \" % char  # Ireland,: char= \",\" then outchar=\" , \" \n",
    "    else:\n",
    "        outchar = char           # Ireland,: char=\"d\" then outchar=\"d\" \n",
    "\n",
    "    tokenised_wiki_text += outchar\n",
    "\n",
    "\n",
    "print (\"Tokenised output:\\n\\n\")\n",
    "\n",
    "\n",
    "# tokenised_wiki_text= tokenised_wiki_text.replace(\"  \",\" \")\n",
    "\n",
    "print (tokenised_wiki_text)"
   ]
  },
  {
   "cell_type": "code",
   "execution_count": 14,
   "metadata": {},
   "outputs": [
    {
     "name": "stdout",
     "output_type": "stream",
     "text": [
      "!\"#$%&'()*+,-./:;<=>?@[\\]^_`{|}~ \n",
      "\n",
      "\n",
      "Tokenised output: \n",
      "\n",
      "\n",
      "Gaelic football  ( Irish :  Peil Ghaelach ;  short name Peil )  ,  commonly known as simply Gaelic ,  GAA or Football is an Irish team sport .  \n",
      "It is played between two teams of 15 players on a rectangular grass pitch .  \n",
      "The objective of the sport is to score by kicking or punching the ball into the other team ' s goals  ( 3 points )  or between two upright posts above the goals and over a crossbar 2 . 5 metres  ( 8 ft 2 in )  above the ground  ( 1 point )  .  \n",
      "Players advance the football up the field with a combination of carrying ,  bouncing ,  kicking ,  hand - passing ,  and soloing  ( dropping the ball and then toe - kicking the ball upward into the hands )  .  \n",
      "In the game ,  two types of scores are possible :  points and goals .  \n",
      "A point is awarded for kicking or hand - passing the ball over the crossbar  ,  signalled by the umpire raising a white flag . \n",
      "A goal is awarded for kicking the ball under the crossbar into the net  ( the ball cannot be hand - passed into the goal )  ,  signalled by the umpire raising a green flag .  \n",
      "Positions in Gaelic football are similar to those in other football codes ,  and comprise one goalkeeper ,  six backs ,  two midfielders ,  and six forwards ,  with a variable number of substitutes .  \n",
      "Gaelic football is one of four sports  ( collectively referred to as the  \" Gaelic games \"  )  controlled by the Gaelic Athletic Association  ( GAA )  ,  the largest sporting organisation in Ireland .  \n",
      "Along with hurling and camogie ,  Gaelic football is one of the few remaining strictly amateur sports in the world ,  with players ,  coaches ,  and managers prohibited from receiving any form of payment . \n",
      "Gaelic football is mainly played on the island of Ireland ,  although units of the Association exist in Great Britain ,  mainland Europe ,  North America ,  Africa ,  Asia ,  and Australia . \n",
      "\n"
     ]
    }
   ],
   "source": [
    "#Method 3\n",
    "\n",
    "import string\n",
    "print (string.punctuation, \"\\n\\n\")\n",
    "\n",
    "\n",
    "tokenised_wiki_text = \"\"\n",
    "for char in wikitext:\n",
    "    if char in string.punctuation:\n",
    "        outchar = \" %s \" % char\n",
    "    else:\n",
    "        outchar = char\n",
    "\n",
    "    tokenised_wiki_text += outchar\n",
    "\n",
    "# tokenised_wiki_text= tokenised_wiki_text.replace(\"  \",\" \")\n",
    "\n",
    "print (\"Tokenised output: \\n\\n\")\n",
    "print (tokenised_wiki_text)\n"
   ]
  },
  {
   "cell_type": "code",
   "execution_count": 15,
   "metadata": {},
   "outputs": [
    {
     "name": "stdout",
     "output_type": "stream",
     "text": [
      "List of tokens:\n",
      "\n",
      " ['Gaelic', 'football', '(', 'Irish', ':', 'Peil', 'Ghaelach', ';', 'short', 'name', 'Peil', ')', ',', 'commonly', 'known', 'as', 'simply', 'Gaelic', ',', 'GAA', 'or', 'Football', 'is', 'an', 'Irish', 'team', 'sport', '.', 'It', 'is', 'played', 'between', 'two', 'teams', 'of', '15', 'players', 'on', 'a', 'rectangular', 'grass', 'pitch', '.', 'The', 'objective', 'of', 'the', 'sport', 'is', 'to', 'score', 'by', 'kicking', 'or', 'punching', 'the', 'ball', 'into', 'the', 'other', 'team', \"'\", 's', 'goals', '(', '3', 'points', ')', 'or', 'between', 'two', 'upright', 'posts', 'above', 'the', 'goals', 'and', 'over', 'a', 'crossbar', '2', '.', '5', 'metres', '(', '8', 'ft', '2', 'in', ')', 'above', 'the', 'ground', '(', '1', 'point', ')', '.', 'Players', 'advance', 'the', 'football', 'up', 'the', 'field', 'with', 'a', 'combination', 'of', 'carrying', ',', 'bouncing', ',', 'kicking', ',', 'hand', '-', 'passing', ',', 'and', 'soloing', '(', 'dropping', 'the', 'ball', 'and', 'then', 'toe', '-', 'kicking', 'the', 'ball', 'upward', 'into', 'the', 'hands', ')', '.', 'In', 'the', 'game', ',', 'two', 'types', 'of', 'scores', 'are', 'possible', ':', 'points', 'and', 'goals', '.', 'A', 'point', 'is', 'awarded', 'for', 'kicking', 'or', 'hand', '-', 'passing', 'the', 'ball', 'over', 'the', 'crossbar', ',', 'signalled', 'by', 'the', 'umpire', 'raising', 'a', 'white', 'flag', '.', 'A', 'goal', 'is', 'awarded', 'for', 'kicking', 'the', 'ball', 'under', 'the', 'crossbar', 'into', 'the', 'net', '(', 'the', 'ball', 'cannot', 'be', 'hand', '-', 'passed', 'into', 'the', 'goal', ')', ',', 'signalled', 'by', 'the', 'umpire', 'raising', 'a', 'green', 'flag', '.', 'Positions', 'in', 'Gaelic', 'football', 'are', 'similar', 'to', 'those', 'in', 'other', 'football', 'codes', ',', 'and', 'comprise', 'one', 'goalkeeper', ',', 'six', 'backs', ',', 'two', 'midfielders', ',', 'and', 'six', 'forwards', ',', 'with', 'a', 'variable', 'number', 'of', 'substitutes', '.', 'Gaelic', 'football', 'is', 'one', 'of', 'four', 'sports', '(', 'collectively', 'referred', 'to', 'as', 'the', '\"', 'Gaelic', 'games', '\"', ')', 'controlled', 'by', 'the', 'Gaelic', 'Athletic', 'Association', '(', 'GAA', ')', ',', 'the', 'largest', 'sporting', 'organisation', 'in', 'Ireland', '.', 'Along', 'with', 'hurling', 'and', 'camogie', ',', 'Gaelic', 'football', 'is', 'one', 'of', 'the', 'few', 'remaining', 'strictly', 'amateur', 'sports', 'in', 'the', 'world', ',', 'with', 'players', ',', 'coaches', ',', 'and', 'managers', 'prohibited', 'from', 'receiving', 'any', 'form', 'of', 'payment', '.', 'Gaelic', 'football', 'is', 'mainly', 'played', 'on', 'the', 'island', 'of', 'Ireland', ',', 'although', 'units', 'of', 'the', 'Association', 'exist', 'in', 'Great', 'Britain', ',', 'mainland', 'Europe', ',', 'North', 'America', ',', 'Africa', ',', 'Asia', ',', 'and', 'Australia', '.'] \n",
      "\n",
      "\n",
      "Gaelic football ( Irish : Peil Ghaelach ; short name Peil ) , commonly known as simply Gaelic , GAA or Football is an Irish team sport . It is played between two teams of 15 players on a rectangular grass pitch . The objective of the sport is to score by kicking or punching the ball into the other team ' s goals ( 3 points ) or between two upright posts above the goals and over a crossbar 2 . 5 metres ( 8 ft 2 in ) above the ground ( 1 point ) . Players advance the football up the field with a combination of carrying , bouncing , kicking , hand - passing , and soloing ( dropping the ball and then toe - kicking the ball upward into the hands ) . In the game , two types of scores are possible : points and goals . A point is awarded for kicking or hand - passing the ball over the crossbar , signalled by the umpire raising a white flag . A goal is awarded for kicking the ball under the crossbar into the net ( the ball cannot be hand - passed into the goal ) , signalled by the umpire raising a green flag . Positions in Gaelic football are similar to those in other football codes , and comprise one goalkeeper , six backs , two midfielders , and six forwards , with a variable number of substitutes . Gaelic football is one of four sports ( collectively referred to as the \" Gaelic games \" ) controlled by the Gaelic Athletic Association ( GAA ) , the largest sporting organisation in Ireland . Along with hurling and camogie , Gaelic football is one of the few remaining strictly amateur sports in the world , with players , coaches , and managers prohibited from receiving any form of payment . Gaelic football is mainly played on the island of Ireland , although units of the Association exist in Great Britain , mainland Europe , North America , Africa , Asia , and Australia . 1792\n"
     ]
    }
   ],
   "source": [
    "token_list = tokenised_wiki_text.split() \n",
    "\n",
    "# split(): runs of consecutive whitespace are regarded as a single separator, \n",
    "# and the result will contain no empty strings at the start or end if the string has leading or trailing whitespace.\n",
    "#Consequently, splitting an empty string or a string consisting of just whitespace with a None separator returns [].\n",
    "\n",
    "print(\"List of tokens:\\n\\n\",token_list, \"\\n\\n\")\n",
    "\n",
    "back_to_text= ' '.join(token_list)\n",
    "\n",
    "print (back_to_text, len(back_to_text))\n"
   ]
  },
  {
   "cell_type": "markdown",
   "metadata": {},
   "source": [
    "##### Count unique words in the tokenised text."
   ]
  },
  {
   "cell_type": "code",
   "execution_count": 16,
   "metadata": {},
   "outputs": [
    {
     "name": "stdout",
     "output_type": "stream",
     "text": [
      "163\n"
     ]
    }
   ],
   "source": [
    "vocabulary = []\n",
    "\n",
    "list_of_tokens = back_to_text.split()\n",
    "\n",
    "for token in list_of_tokens:\n",
    "    if token not in vocabulary:\n",
    "        vocabulary.append(token)\n",
    "print (len(vocabulary))"
   ]
  },
  {
   "cell_type": "markdown",
   "metadata": {},
   "source": [
    "##### Lowercase the tokenised text and Count unique tokens."
   ]
  },
  {
   "cell_type": "code",
   "execution_count": 17,
   "metadata": {},
   "outputs": [
    {
     "name": "stdout",
     "output_type": "stream",
     "text": [
      "158\n"
     ]
    }
   ],
   "source": [
    "vocabulary = []\n",
    "\n",
    "list_of_tokens = back_to_text.lower().split()\n",
    "\n",
    "for token in list_of_tokens:\n",
    "    if token not in vocabulary:\n",
    "        vocabulary.append(token)\n",
    "print (len(vocabulary))"
   ]
  },
  {
   "cell_type": "markdown",
   "metadata": {},
   "source": [
    "#### Take the lowercased and tokenised text from (8). (i) Extract every fifth word from end. Print.  (i) Extract every third word from the beginning. Print.  (iii) Extract every second word starting from \"grass\" and ending at \"golakeeper\" (including \"goalkeeper\"). Print."
   ]
  },
  {
   "cell_type": "code",
   "execution_count": 21,
   "metadata": {},
   "outputs": [
    {
     "name": "stdout",
     "output_type": "stream",
     "text": [
      "['gaelic', 'football', '(', 'irish', ':', 'peil', 'ghaelach', ';', 'short', 'name', 'peil', ')', ',', 'commonly', 'known', 'as', 'simply', 'gaelic', ',', 'gaa', 'or', 'football', 'is', 'an', 'irish', 'team', 'sport', '.', 'it', 'is', 'played', 'between', 'two', 'teams', 'of', '15', 'players', 'on', 'a', 'rectangular', 'grass', 'pitch', '.', 'the', 'objective', 'of', 'the', 'sport', 'is', 'to', 'score', 'by', 'kicking', 'or', 'punching', 'the', 'ball', 'into', 'the', 'other', 'team', \"'\", 's', 'goals', '(', '3', 'points', ')', 'or', 'between', 'two', 'upright', 'posts', 'above', 'the', 'goals', 'and', 'over', 'a', 'crossbar', '2', '.', '5', 'metres', '(', '8', 'ft', '2', 'in', ')', 'above', 'the', 'ground', '(', '1', 'point', ')', '.', 'players', 'advance', 'the', 'football', 'up', 'the', 'field', 'with', 'a', 'combination', 'of', 'carrying', ',', 'bouncing', ',', 'kicking', ',', 'hand', '-', 'passing', ',', 'and', 'soloing', '(', 'dropping', 'the', 'ball', 'and', 'then', 'toe', '-', 'kicking', 'the', 'ball', 'upward', 'into', 'the', 'hands', ')', '.', 'in', 'the', 'game', ',', 'two', 'types', 'of', 'scores', 'are', 'possible', ':', 'points', 'and', 'goals', '.', 'a', 'point', 'is', 'awarded', 'for', 'kicking', 'or', 'hand', '-', 'passing', 'the', 'ball', 'over', 'the', 'crossbar', ',', 'signalled', 'by', 'the', 'umpire', 'raising', 'a', 'white', 'flag', '.', 'a', 'goal', 'is', 'awarded', 'for', 'kicking', 'the', 'ball', 'under', 'the', 'crossbar', 'into', 'the', 'net', '(', 'the', 'ball', 'cannot', 'be', 'hand', '-', 'passed', 'into', 'the', 'goal', ')', ',', 'signalled', 'by', 'the', 'umpire', 'raising', 'a', 'green', 'flag', '.', 'positions', 'in', 'gaelic', 'football', 'are', 'similar', 'to', 'those', 'in', 'other', 'football', 'codes', ',', 'and', 'comprise', 'one', 'goalkeeper', ',', 'six', 'backs', ',', 'two', 'midfielders', ',', 'and', 'six', 'forwards', ',', 'with', 'a', 'variable', 'number', 'of', 'substitutes', '.', 'gaelic', 'football', 'is', 'one', 'of', 'four', 'sports', '(', 'collectively', 'referred', 'to', 'as', 'the', '\"', 'gaelic', 'games', '\"', ')', 'controlled', 'by', 'the', 'gaelic', 'athletic', 'association', '(', 'gaa', ')', ',', 'the', 'largest', 'sporting', 'organisation', 'in', 'ireland', '.', 'along', 'with', 'hurling', 'and', 'camogie', ',', 'gaelic', 'football', 'is', 'one', 'of', 'the', 'few', 'remaining', 'strictly', 'amateur', 'sports', 'in', 'the', 'world', ',', 'with', 'players', ',', 'coaches', ',', 'and', 'managers', 'prohibited', 'from', 'receiving', 'any', 'form', 'of', 'payment', '.', 'gaelic', 'football', 'is', 'mainly', 'played', 'on', 'the', 'island', 'of', 'ireland', ',', 'although', 'units', 'of', 'the', 'association', 'exist', 'in', 'great', 'britain', ',', 'mainland', 'europe', ',', 'north', 'america', ',', 'africa', ',', 'asia', ',', 'and', 'australia', '.']\n",
      "['.', ',', ',', 'great', 'of', 'of', 'mainly', 'payment', 'from', 'coaches', 'world', 'strictly', 'one', 'camogie', '.', 'largest', '(', 'by', 'gaelic', 'referred', 'of', '.', 'a', 'and', 'backs', 'comprise', 'other', 'are', '.', 'umpire', ')', '-', 'the', 'crossbar', 'kicking', 'a', 'raising', ',', 'the', 'kicking', 'a', ':', 'types', 'in', 'into', '-', 'the', ',', 'kicking', 'of', 'the', 'players', '(', 'in', 'metres', 'a', 'above', 'or', 'goals', 'the', 'or', 'is', 'the', 'a', 'teams', 'it', 'an', ',', 'commonly', 'short', 'irish']\n",
      "['gaelic', 'irish', 'ghaelach', 'name', ',', 'as', ',', 'football', 'irish', '.', 'played', 'teams', 'players', 'rectangular', '.', 'of', 'is', 'by', 'punching', 'into', 'team', 'goals', 'points', 'between', 'posts', 'goals', 'a', '.', '(', '2', 'above', '(', ')', 'advance', 'up', 'with', 'of', 'bouncing', ',', 'passing', 'soloing', 'the', 'then', 'kicking', 'upward', 'hands', 'in', ',', 'of', 'possible', 'and', 'a', 'awarded', 'or', 'passing', 'over', ',', 'the', 'a', '.', 'is', 'kicking', 'under', 'into', '(', 'cannot', '-', 'the', ',', 'the', 'a', '.', 'gaelic', 'similar', 'in', 'codes', 'comprise', ',', ',', ',', 'forwards', 'a', 'of', 'gaelic', 'one', 'sports', 'referred', 'the', 'games', 'controlled', 'gaelic', '(', ',', 'sporting', 'ireland', 'with', 'camogie', 'football', 'of', 'remaining', 'sports', 'world', 'players', ',', 'prohibited', 'any', 'payment', 'football', 'played', 'island', ',', 'of', 'exist', 'britain', 'europe', 'america', ',', 'and']\n",
      "40\n",
      "230\n",
      "['grass', '.', 'objective', 'the', 'is', 'score', 'kicking', 'punching', 'ball', 'the', 'team', 's', '(', 'points', 'or', 'two', 'posts', 'the', 'and', 'a', '2', '5', '(', 'ft', 'in', 'above', 'ground', '1', ')', 'players', 'the', 'up', 'field', 'a', 'of', ',', ',', ',', '-', ',', 'soloing', 'dropping', 'ball', 'then', '-', 'the', 'upward', 'the', ')', 'in', 'game', 'two', 'of', 'are', ':', 'and', '.', 'point', 'awarded', 'kicking', 'hand', 'passing', 'ball', 'the', ',', 'by', 'umpire', 'a', 'flag', 'a', 'is', 'for', 'the', 'under', 'crossbar', 'the', '(', 'ball', 'be', '-', 'into', 'goal', ',', 'by', 'umpire', 'a', 'flag', 'positions', 'gaelic', 'are', 'to', 'in', 'football', ',', 'comprise', 'goalkeeper']\n"
     ]
    }
   ],
   "source": [
    "list_of_tokens = back_to_text.lower().split()\n",
    "\n",
    "\n",
    "print (list_of_tokens)\n",
    "\n",
    "print (list_of_tokens[::-5]) # start = -1; stop: -(len+1): step = -5 \n",
    "\n",
    "print (list_of_tokens[::3]) # start 0 stop: len: step 3\n",
    "\n",
    "grassindex = list_of_tokens.index(\"grass\")\n",
    "print (grassindex)\n",
    "goalkeeperindex = list_of_tokens.index(\"goalkeeper\")\n",
    "print (goalkeeperindex)\n",
    "\n",
    "print (list_of_tokens[grassindex:goalkeeperindex+1:2]) # list_of_tokens[40:243+1:2] = 40:244:2 start:stop:step"
   ]
  },
  {
   "cell_type": "code",
   "execution_count": null,
   "metadata": {},
   "outputs": [],
   "source": []
  }
 ],
 "metadata": {
  "kernelspec": {
   "display_name": "Python 3 (ipykernel)",
   "language": "python",
   "name": "python3"
  },
  "language_info": {
   "codemirror_mode": {
    "name": "ipython",
    "version": 3
   },
   "file_extension": ".py",
   "mimetype": "text/x-python",
   "name": "python",
   "nbconvert_exporter": "python",
   "pygments_lexer": "ipython3",
   "version": "3.11.3"
  }
 },
 "nbformat": 4,
 "nbformat_minor": 4
}
