{
 "cells": [
  {
   "cell_type": "markdown",
   "metadata": {},
   "source": [
    "## Assignment 1\n",
    "\n",
    "<pre>\n",
    "\n",
    "1.\tTake a string as input (use input() method). Its length should be of at least 10 characters. \n",
    "2.\tCapitalize the input string and Print.\n",
    "3.\tConvert its last 5 characters into upper case. Print the string.\n",
    "4.\tProduce its reverse using three different ways: \n",
    "\n",
    "    - a.\tUsing your own function\n",
    "    - b.\tUsing built-in reversed function\n",
    "    - c.\tUsing slicing\n",
    "\n",
    "</pre>"
   ]
  },
  {
   "cell_type": "markdown",
   "metadata": {},
   "source": [
    "#### Take a string as input (use input() method). Its length should be of at least 10 characters."
   ]
  },
  {
   "cell_type": "code",
   "execution_count": 6,
   "metadata": {},
   "outputs": [
    {
     "name": "stdout",
     "output_type": "stream",
     "text": [
      "hello\n",
      "hello setu carlow\n"
     ]
    }
   ],
   "source": [
    "mystr= \"\"\n",
    "\n",
    "# method 1\n",
    "while len(mystr) < 10:\n",
    "    mystr = input()\n",
    "    \n",
    "print (\"1. Input String:\", mystr)\n",
    " \n"
   ]
  },
  {
   "cell_type": "code",
   "execution_count": null,
   "metadata": {},
   "outputs": [],
   "source": [
    "#method 2\n",
    "mystr= \"\"\n",
    "while True:\n",
    "    mystr = input()\n",
    "    if len (mystr) < 10:\n",
    "        continue\n",
    "    break"
   ]
  },
  {
   "cell_type": "markdown",
   "metadata": {},
   "source": [
    "#### Capitalize the input string and Print."
   ]
  },
  {
   "cell_type": "code",
   "execution_count": 2,
   "metadata": {},
   "outputs": [
    {
     "name": "stdout",
     "output_type": "stream",
     "text": [
      "2. Capitalized String: Setu kilkenny road\n"
     ]
    }
   ],
   "source": [
    "mystrcap = mystr.capitalize()\n",
    "print (\"2. Capitalized String:\", mystrcap)"
   ]
  },
  {
   "cell_type": "markdown",
   "metadata": {},
   "source": [
    "#### Convert its last 5 characters into upper case. Print the string."
   ]
  },
  {
   "cell_type": "code",
   "execution_count": 3,
   "metadata": {},
   "outputs": [
    {
     "name": "stdout",
     "output_type": "stream",
     "text": [
      "Setu kilkenny road\n",
      " road\n",
      "Setu kilkenny\n",
      "3. Desired String: Setu kilkenny ROAD\n"
     ]
    }
   ],
   "source": [
    "\n",
    "\n",
    "\n",
    "\n",
    "\n",
    "\n",
    "\n",
    "\n",
    "\n",
    "\n",
    "\n",
    "\n",
    "\n",
    "print (mystrcap)\n",
    "\n",
    "endStr = mystrcap[-5:] # string with last five characters\n",
    "print (endStr)\n",
    "startStr = mystrcap[:-5] # all rem. chars upto -5 index (excluded) \n",
    "print (startStr)\n",
    "\n",
    "finalstr = startStr + endStr.upper()\n",
    "print (\"3. Desired String:\", finalstr)\n",
    "\n",
    "\n",
    "\n",
    "\n",
    "\n",
    "\n",
    "\n",
    "\n",
    "\n",
    "\n",
    "\n",
    "\n",
    "\n"
   ]
  },
  {
   "cell_type": "markdown",
   "metadata": {},
   "source": [
    "#### Produce its reverse using three different ways: \n",
    "##### a.\tUsing your own function  "
   ]
  },
  {
   "cell_type": "code",
   "execution_count": 9,
   "metadata": {},
   "outputs": [
    {
     "name": "stdout",
     "output_type": "stream",
     "text": [
      "S\n",
      "eS\n",
      "teS\n",
      "uteS\n",
      " uteS\n",
      "k uteS\n",
      "ik uteS\n",
      "lik uteS\n",
      "klik uteS\n",
      "eklik uteS\n",
      "neklik uteS\n",
      "nneklik uteS\n",
      "ynneklik uteS\n",
      " ynneklik uteS\n",
      "R ynneklik uteS\n",
      "OR ynneklik uteS\n",
      "AOR ynneklik uteS\n",
      "DAOR ynneklik uteS\n",
      "DAOR ynneklik uteS\n"
     ]
    }
   ],
   "source": [
    "def reverse (instr):\n",
    "    \n",
    "    rev=\"\"\n",
    "    for c in instr:\n",
    "        rev = c+rev\n",
    "        print (rev)\n",
    "    return rev\n",
    "\n",
    "print (reverse(finalstr))"
   ]
  },
  {
   "cell_type": "markdown",
   "metadata": {},
   "source": [
    "### Iterator\n",
    "- An iterator is an object that contains a countable number of values.\n",
    "- This object can be iterated upon, meaning that you can traverse through all the values\n",
    "\n",
    " - List\n",
    " - Set\n",
    " - Dictionary\n",
    " - Tuples\n",
    " \n",
    "#### Similarly, strings are **iterable** objects, containing a sequence of characters."
   ]
  },
  {
   "cell_type": "markdown",
   "metadata": {},
   "source": [
    "##### b. Using built-in reversed function"
   ]
  },
  {
   "cell_type": "code",
   "execution_count": 5,
   "metadata": {},
   "outputs": [
    {
     "name": "stdout",
     "output_type": "stream",
     "text": [
      "Let us see an Iterator object.\n",
      "<str_ascii_iterator object at 0x000002608DC91A20>\n",
      "Type of 'myit': <class 'str_ascii_iterator'>\n",
      "\n",
      "First item: I\n",
      "Next item: t\n",
      "\n",
      "Let us use a for loop to iterate through an iterable object (in our case string iterable object 'myit')\n",
      "\n",
      "c a r l o w \n",
      "\n",
      "Let us see what is built-in method reversed()\n",
      "\n",
      "\n",
      "Setu kilkenny ROAD\n",
      "<class 'str'>\n",
      "<reversed object at 0x000002608DC91300>\n",
      "<class 'reversed'>\n",
      "The revered string is DAOR ynneklik uteS\n"
     ]
    }
   ],
   "source": [
    "print (\"Let us see an Iterator object.\") \n",
    "\n",
    "mystr = \"Itcarlow\"\n",
    "myit = iter(mystr)\n",
    "\n",
    "# iter() method is used to get an iterator object -- whic is myit\n",
    "\n",
    "print (myit)\n",
    "print (\"Type of 'myit'\",  end=\": \") \n",
    "print (type (myit))\n",
    "\n",
    "# myit object contains countable number of values\n",
    "# next() returns the next item in the sequence\n",
    "\n",
    "print (\"\\nFirst item:\", end=\" \") \n",
    "print(next(myit))\n",
    "print (\"Next item:\", end=\" \")\n",
    "print(next(myit))\n",
    "\n",
    "print (\"\\nLet us use a for loop to iterate through an iterable object (in our case string iterable object 'myit')\\n\")\n",
    "for c in myit:\n",
    "    print (c, end=\" \")\n",
    "\n",
    "print (\"\\n\\nLet us see what is built-in method reversed()\\n\\n\")\n",
    "\n",
    "print (finalstr)\n",
    "print (type (finalstr))\n",
    "\n",
    "# we create reveresed iter object\n",
    "reviter =reversed(finalstr)\n",
    "# print (reviter)\n",
    "# print (type (reviter))\n",
    "\n",
    "# As you see, reversed() returns the \"reversed iterator\" object of the given sequence.\n",
    "# identical to iter() method but in reverse order\n",
    "\n",
    "revstr=\"\"\n",
    "for c in reviter:\n",
    "    revstr += c\n",
    "\n",
    "print (\"The revered string is {}\".format(revstr))\n"
   ]
  },
  {
   "cell_type": "markdown",
   "metadata": {},
   "source": [
    "##### c. Using slicing"
   ]
  },
  {
   "cell_type": "code",
   "execution_count": null,
   "metadata": {},
   "outputs": [],
   "source": [
    "\n",
    "       S  E   T   U\n",
    "# -5  -4 -3  -2  -1\n",
    "\n",
    "# UTES\n",
    "    \n",
    "revstr = finalstr[0:len:1] #start (-1): stop -(len+1)= -5: step (-1)\n",
    "print (revstr)"
   ]
  },
  {
   "cell_type": "markdown",
   "metadata": {},
   "source": [
    "# Table to show indexes for slicing\n",
    "\n",
    "<pre>\n",
    "\n",
    "+---+---+---+---+ \n",
    "|-4 |-3 |-2 |-1 |  <= negative indexes\n",
    "+---+---+---+---+\n",
    "| A | B | C | D |  <= sequence elements\n",
    "+---+---+---+---+\n",
    "| 0 | 1 | 2 | 3 |  <= positive indexes\n",
    "+---+---+---+---+\n",
    "|     0:3:1     |  <= extent of the slice: \"ABCD\"[0:3:1]\n",
    "\n",
    "\n",
    "\"ABCD\"[::-1]\n",
    "\"ABCD\"[-1:-(len+1):-1] # -(len+1) = -(5+1) = -6\n",
    "</pre>\n"
   ]
  },
  {
   "cell_type": "markdown",
   "metadata": {},
   "source": [
    "### Suppose we have got [a: b: c]. Rules for indices will be as follows:\n",
    "<pre>\n",
    "\n",
    "First c is checked. Default is +1, sign of c indicates forward or backward direction of the step. Absolute value of c indicates the step size.\n",
    "\n",
    "Then a is checked. When c is positive or None, default for a is 0. When c is negative, default for a is -1.\n",
    "\n",
    "Finally b is checked. When c is positive or None, default for b is len. When c is negative default for b is -(len+1).\n",
    "\n",
    "The index that is too large or too small is replaced with len or 0.\n",
    "\n",
    "\n",
    "c = -1 ; default [a = -1 b = -(len+1)]\n",
    "c = -1 ; default [a = 0 b = len ]\n",
    "\n",
    "</pre>"
   ]
  },
  {
   "cell_type": "code",
   "execution_count": null,
   "metadata": {},
   "outputs": [],
   "source": []
  }
 ],
 "metadata": {
  "kernelspec": {
   "display_name": "Python 3 (ipykernel)",
   "language": "python",
   "name": "python3"
  },
  "language_info": {
   "codemirror_mode": {
    "name": "ipython",
    "version": 3
   },
   "file_extension": ".py",
   "mimetype": "text/x-python",
   "name": "python",
   "nbconvert_exporter": "python",
   "pygments_lexer": "ipython3",
   "version": "3.11.3"
  }
 },
 "nbformat": 4,
 "nbformat_minor": 4
}
