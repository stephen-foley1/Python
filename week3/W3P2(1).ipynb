{
 "cells": [
  {
   "cell_type": "markdown",
   "id": "c4338e50",
   "metadata": {},
   "source": [
    " #### Q1 Write  and test a program that checks if two lists, which you must create yourself, contain the same elements, even though the elements may be in a different order. \n",
    " \n",
    " - For example, all the elements in [1,2,3,4,5] are in [5,4,3,2,1] so you should print True. Otherwise, print False. \n",
    " \n",
    "- Hint: Loop through list1. If the element exists in both lists, then delete it from both lists. At the end of the loop, if either of the lists is not empty, then the lists do not contain the same elements. In your code, write comments with different lists that you have used to test your program (e.g., # list1 = [1,2,3,4,5], list2 = [5,4,3,2,1])."
   ]
  },
  {
   "cell_type": "code",
   "execution_count": 10,
   "id": "1f26f2e7",
   "metadata": {},
   "outputs": [
    {
     "name": "stdout",
     "output_type": "stream",
     "text": [
      "Enter the lenth of the list you want to create: 1\n",
      "Enter a character: 2\n",
      "List1  ['2']\n",
      "Enter the lenth of the list you want to create: 1\n",
      "Enter a character: 2\n",
      "List2  ['2']\n",
      "Both lists contain same elements\n"
     ]
    }
   ],
   "source": [
    "def createlist(n):\n",
    "    lst = []\n",
    "    while n!=0:\n",
    "        lst.append(input(\"Enter a character: \"))\n",
    "        n-=1\n",
    "    return lst\n",
    "\n",
    "\n",
    "\n",
    "x = int(input(\"Enter the lenth of the list you want to create: \"))\n",
    "mylist1 = createlist(x)\n",
    "print (\"List1 \", mylist1)\n",
    "\n",
    "x = int(input(\"Enter the lenth of the list you want to create: \"))\n",
    "mylist2 = createlist(x)\n",
    "print (\"List2 \", mylist2)\n",
    "mylist2back = mylist2.copy()\n",
    "\n",
    "i = 0\n",
    "while i < len(mylist1):\n",
    "    item = mylist1[i]\n",
    "    while item in mylist2:\n",
    "        mylist2.remove(item)\n",
    "    i +=1\n",
    "\n",
    "i = 0\n",
    "while i < len(mylist2back):\n",
    "    item = mylist2back[i]\n",
    "    while item in mylist1:\n",
    "        mylist1.remove(item)\n",
    "    i +=1\n",
    "\n",
    "    \n",
    "if mylist1 == [] and mylist2 == []:\n",
    "    print (\"Both lists contain same elements\")\n",
    "else:\n",
    "    print (\"Both lists do not contain same elements\")\n",
    "    \n",
    "    \n"
   ]
  },
  {
   "cell_type": "code",
   "execution_count": 2,
   "id": "25780eed",
   "metadata": {},
   "outputs": [
    {
     "name": "stdout",
     "output_type": "stream",
     "text": [
      "Enter the lenth of the list you want to create: 3\n",
      "Enter a character: 1\n",
      "Enter a character: 2\n",
      "Enter a character: 2\n",
      "List1  ['1', '2', '2']\n",
      "Enter the lenth of the list you want to create: 3\n",
      "Enter a character: 1\n",
      "Enter a character: 1\n",
      "Enter a character: 2\n",
      "List2  ['1', '1', '2']\n",
      "Both lists contain same elements\n"
     ]
    }
   ],
   "source": [
    "def createlist(n):\n",
    "    lst = []\n",
    "    while n!=0:\n",
    "        lst.append(input(\"Enter a character: \"))\n",
    "        n-=1\n",
    "    return lst\n",
    "\n",
    "\n",
    "\n",
    "x = int(input(\"Enter the lenth of the list you want to create: \"))\n",
    "mylist1 = createlist(x)\n",
    "print (\"List1 \", mylist1)\n",
    "\n",
    "x = int(input(\"Enter the lenth of the list you want to create: \"))\n",
    "mylist2 = createlist(x)\n",
    "print (\"List2 \", mylist2)\n",
    "mylist2back = mylist2.copy()\n",
    "\n",
    "status = True\n",
    "for item in mylist1:\n",
    "    if item not in mylist2:\n",
    "        status = False\n",
    "        \n",
    "for item in mylist2:\n",
    "    if item not in mylist2:\n",
    "        status = False\n",
    "        \n",
    "if status:\n",
    "    print (\"Both lists contain same elements\")\n",
    "else:\n",
    "    print (\"Both lists do not contain same elements\")\n",
    "    "
   ]
  },
  {
   "cell_type": "code",
   "execution_count": null,
   "id": "db7e676b",
   "metadata": {},
   "outputs": [],
   "source": []
  },
  {
   "cell_type": "code",
   "execution_count": null,
   "id": "cbc88013",
   "metadata": {},
   "outputs": [],
   "source": []
  }
 ],
 "metadata": {
  "kernelspec": {
   "display_name": "Python 3 (ipykernel)",
   "language": "python",
   "name": "python3"
  },
  "language_info": {
   "codemirror_mode": {
    "name": "ipython",
    "version": 3
   },
   "file_extension": ".py",
   "mimetype": "text/x-python",
   "name": "python",
   "nbconvert_exporter": "python",
   "pygments_lexer": "ipython3",
   "version": "3.12.5"
  }
 },
 "nbformat": 4,
 "nbformat_minor": 5
}
