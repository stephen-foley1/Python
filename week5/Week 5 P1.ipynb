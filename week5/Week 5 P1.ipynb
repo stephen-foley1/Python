{
 "cells": [
  {
   "cell_type": "markdown",
   "id": "fd95ba71",
   "metadata": {},
   "source": [
    "## Convert a list to a dictionary. E.g. Given [5, 6, 7], produce {5:25, 6:36, 7:49}\n"
   ]
  },
  {
   "cell_type": "code",
   "execution_count": 5,
   "id": "6edaeecd",
   "metadata": {},
   "outputs": [
    {
     "name": "stdout",
     "output_type": "stream",
     "text": [
      "{3: 9, 4: 16, 5: 25, 6: 36, 24: 576}\n"
     ]
    }
   ],
   "source": [
    "def myfunc (ls):\n",
    "\n",
    "    mydic = {}\n",
    "    for item in ls:\n",
    "        mydic [item] = item * item\n",
    "    \n",
    "    return mydic\n",
    "\n",
    "mylist = [3, 4, 5, 6, 24]\n",
    "\n",
    "retdic = myfunc(mylist)\n",
    "\n",
    "print (retdic)\n"
   ]
  },
  {
   "cell_type": "markdown",
   "id": "b2f93333",
   "metadata": {},
   "source": [
    "### Reverse key with value in a dictionary: E.g. Given {5:25, 6:36, 7:49}, produce {25:5, 36:6, 49:7}\n"
   ]
  },
  {
   "cell_type": "code",
   "execution_count": 6,
   "id": "c0f77ec7",
   "metadata": {},
   "outputs": [
    {
     "name": "stdout",
     "output_type": "stream",
     "text": [
      "{25: 5, 36: 6, 49: 7}\n"
     ]
    }
   ],
   "source": [
    "d =  {5:25, 6:36, 7:49}\n",
    "k ={}\n",
    "\n",
    "\n",
    "for i in d.keys():\n",
    "    k[d[i]] = i\n",
    "\n",
    "print (k)\n"
   ]
  },
  {
   "cell_type": "markdown",
   "id": "5dd53a4a",
   "metadata": {},
   "source": [
    "### You are given the following text \n",
    "\n",
    "text = \"\"\"The first Irish inter-county ploughing contest was held between County Wexford and County Kildare\n",
    "on 16 February 1931 in a 26-acre field at Coursetown in Athy in County Kildare.\n",
    "Since then, the National Ploughing Championships has expanded to over 800 acres with 1,700 exhibitors.\n",
    "It has been extended beyond displays relating to ploughing, farming and machinery and now includes a tented trade \n",
    "village, live entertainment and music, fashion shows, a craft village, cooking demonstrations,\n",
    "sheep dog trials, pony games and other activities. In 2014, the event attracted what was then a record of\n",
    "279,500 visitors, rising to 281,000 in 2015, 283,000 in 2016 and 291,500 in 2017.\n",
    "The original mission statement for the National Ploughing Association, the body which organises the event,\n",
    "was set out as bringing 'the message of good ploughing to all parts of the country and to provide a pleasant \n",
    "and friendly place to meet and do business' \"\"\"\n",
    "\n",
    "- 1. Create a dictionary, where keys: words and value: frequncy of words\n",
    "- 2. Print those words whose frequncies are greater than 2.\n",
    "\n",
    "- 3. Create another dictionary from the dictionary you created in (1) with those keys whose length would be gretaer than 5 characters.\n",
    "\n"
   ]
  },
  {
   "cell_type": "code",
   "execution_count": 1,
   "id": "19cf41a8",
   "metadata": {},
   "outputs": [
    {
     "name": "stdout",
     "output_type": "stream",
     "text": [
      "['The', 'first', 'Irish', 'inter-county', 'ploughing', 'contest', 'was', 'held', 'between', 'County', 'Wexford', 'and', 'County', 'Kildare', 'on', '16', 'February', '1931', 'in', 'a', '26-acre', 'field', 'at', 'Coursetown', 'in', 'Athy', 'in', 'County', 'Kildare.', 'Since', 'then,', 'the', 'National', 'Ploughing', 'Championships', 'has', 'expanded', 'to', 'over', '800', 'acres', 'with', '1,700', 'exhibitors.', 'It', 'has', 'been', 'extended', 'beyond', 'displays', 'relating', 'to', 'ploughing,', 'farming', 'and', 'machinery', 'and', 'now', 'includes', 'a', 'tented', 'trade', 'village,', 'live', 'entertainment', 'and', 'music,', 'fashion', 'shows,', 'a', 'craft', 'village,', 'cooking', 'demonstrations,', 'sheep', 'dog', 'trials,', 'pony', 'games', 'and', 'other', 'activities.', 'In', '2014,', 'the', 'event', 'attracted', 'what', 'was', 'then', 'a', 'record', 'of', '279,500', 'visitors,', 'rising', 'to', '281,000', 'in', '2015,', '283,000', 'in', '2016', 'and', '291,500', 'in', '2017.', 'The', 'original', 'mission', 'statement', 'for', 'the', 'National', 'Ploughing', 'Association,', 'the', 'body', 'which', 'organises', 'the', 'event,', 'was', 'set', 'out', 'as', 'bringing', \"'the\", 'message', 'of', 'good', 'ploughing', 'to', 'all', 'parts', 'of', 'the', 'country', 'and', 'to', 'provide', 'a', 'pleasant', 'and', 'friendly', 'place', 'to', 'meet', 'and', 'do', \"business'\"]\n",
      "\n",
      "\n",
      "\n",
      "{'The': 2, 'first': 1, 'Irish': 1, 'inter-county': 1, 'ploughing': 2, 'contest': 1, 'was': 3, 'held': 1, 'between': 1, 'County': 3, 'Wexford': 1, 'and': 9, 'Kildare': 1, 'on': 1, '16': 1, 'February': 1, '1931': 1, 'in': 6, 'a': 5, '26-acre': 1, 'field': 1, 'at': 1, 'Coursetown': 1, 'Athy': 1, 'Kildare.': 1, 'Since': 1, 'then,': 1, 'the': 6, 'National': 2, 'Ploughing': 2, 'Championships': 1, 'has': 2, 'expanded': 1, 'to': 6, 'over': 1, '800': 1, 'acres': 1, 'with': 1, '1,700': 1, 'exhibitors.': 1, 'It': 1, 'been': 1, 'extended': 1, 'beyond': 1, 'displays': 1, 'relating': 1, 'ploughing,': 1, 'farming': 1, 'machinery': 1, 'now': 1, 'includes': 1, 'tented': 1, 'trade': 1, 'village,': 2, 'live': 1, 'entertainment': 1, 'music,': 1, 'fashion': 1, 'shows,': 1, 'craft': 1, 'cooking': 1, 'demonstrations,': 1, 'sheep': 1, 'dog': 1, 'trials,': 1, 'pony': 1, 'games': 1, 'other': 1, 'activities.': 1, 'In': 1, '2014,': 1, 'event': 1, 'attracted': 1, 'what': 1, 'then': 1, 'record': 1, 'of': 3, '279,500': 1, 'visitors,': 1, 'rising': 1, '281,000': 1, '2015,': 1, '283,000': 1, '2016': 1, '291,500': 1, '2017.': 1, 'original': 1, 'mission': 1, 'statement': 1, 'for': 1, 'Association,': 1, 'body': 1, 'which': 1, 'organises': 1, 'event,': 1, 'set': 1, 'out': 1, 'as': 1, 'bringing': 1, \"'the\": 1, 'message': 1, 'good': 1, 'all': 1, 'parts': 1, 'country': 1, 'provide': 1, 'pleasant': 1, 'friendly': 1, 'place': 1, 'meet': 1, 'do': 1, \"business'\": 1}\n",
      "\n",
      "\n",
      "\n",
      "word: was \t frequency: 3\n",
      "word: County \t frequency: 3\n",
      "word: and \t frequency: 9\n",
      "word: in \t frequency: 6\n",
      "word: a \t frequency: 5\n",
      "word: the \t frequency: 6\n",
      "word: to \t frequency: 6\n",
      "word: of \t frequency: 3\n",
      "\n",
      "\n",
      " {'inter-county': 1, 'ploughing': 2, 'contest': 1, 'between': 1, 'County': 3, 'Wexford': 1, 'Kildare': 1, 'February': 1, '26-acre': 1, 'Coursetown': 1, 'Kildare.': 1, 'National': 2, 'Ploughing': 2, 'Championships': 1, 'expanded': 1, 'exhibitors.': 1, 'extended': 1, 'beyond': 1, 'displays': 1, 'relating': 1, 'ploughing,': 1, 'farming': 1, 'machinery': 1, 'includes': 1, 'tented': 1, 'village,': 2, 'entertainment': 1, 'music,': 1, 'fashion': 1, 'shows,': 1, 'cooking': 1, 'demonstrations,': 1, 'trials,': 1, 'activities.': 1, 'attracted': 1, 'record': 1, '279,500': 1, 'visitors,': 1, 'rising': 1, '281,000': 1, '283,000': 1, '291,500': 1, 'original': 1, 'mission': 1, 'statement': 1, 'Association,': 1, 'organises': 1, 'event,': 1, 'bringing': 1, 'message': 1, 'country': 1, 'provide': 1, 'pleasant': 1, 'friendly': 1, \"business'\": 1}\n"
     ]
    }
   ],
   "source": [
    "\n",
    "text = \"\"\"The first Irish inter-county ploughing contest was held between County Wexford and County Kildare\n",
    "on 16 February 1931 in a 26-acre field at Coursetown in Athy in County Kildare.\n",
    "Since then, the National Ploughing Championships has expanded to over 800 acres with 1,700 exhibitors.\n",
    "It has been extended beyond displays relating to ploughing, farming and machinery and now includes a tented trade \n",
    "village, live entertainment and music, fashion shows, a craft village, cooking demonstrations,\n",
    "sheep dog trials, pony games and other activities. In 2014, the event attracted what was then a record of\n",
    "279,500 visitors, rising to 281,000 in 2015, 283,000 in 2016 and 291,500 in 2017.\n",
    "The original mission statement for the National Ploughing Association, the body which organises the event,\n",
    "was set out as bringing 'the message of good ploughing to all parts of the country and to provide a pleasant \n",
    "and friendly place to meet and do business' \"\"\"\n",
    "\n",
    "\n",
    "lst = text.split()\n",
    "\n",
    "print (lst)\n",
    "\n",
    "mydictionary = {}\n",
    "\n",
    "for word in lst:\n",
    "    if word in mydictionary:\n",
    "        mydictionary[word] = mydictionary[word] +1\n",
    "    else:\n",
    "        mydictionary[word] = 1\n",
    "\n",
    "print (\"\\n\\n\")\n",
    "print (mydictionary)\n",
    "\n",
    "print (\"\\n\\n\")\n",
    "for word, freq in mydictionary.items():\n",
    "    if freq > 2:    \n",
    "        print (\"word: {0} \\t frequency: {1}\".format(word, freq))\n",
    "    \n",
    "    \n",
    "    \n",
    "    \n",
    "#Q3.3\n",
    "newdictionary = {}\n",
    "for word, freq in mydictionary.items():\n",
    "    if len(word) > 5:\n",
    "        newdictionary [word] = freq\n",
    "\n",
    "print (\"\\n\\n\",newdictionary)\n"
   ]
  },
  {
   "cell_type": "code",
   "execution_count": null,
   "id": "be3b5491",
   "metadata": {},
   "outputs": [],
   "source": []
  }
 ],
 "metadata": {
  "kernelspec": {
   "display_name": "Python 3 (ipykernel)",
   "language": "python",
   "name": "python3"
  },
  "language_info": {
   "codemirror_mode": {
    "name": "ipython",
    "version": 3
   },
   "file_extension": ".py",
   "mimetype": "text/x-python",
   "name": "python",
   "nbconvert_exporter": "python",
   "pygments_lexer": "ipython3",
   "version": "3.11.3"
  }
 },
 "nbformat": 4,
 "nbformat_minor": 5
}
