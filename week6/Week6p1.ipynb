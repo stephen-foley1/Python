{
 "cells": [
  {
   "cell_type": "markdown",
   "id": "a2f9e1b8",
   "metadata": {},
   "source": [
    "#### Given the followig text create a dictinary whose keys are words and values are tuples containing positions of the words in the text. For example, for the word \"that\" key = \"that\" and value = (5, 43) since \"that\" appears in 5th and 43rd positions in the text. \n",
    "\n",
    "- 1. Print the dictionary\n",
    "- 2. Calculate the average position of the words \"the\" and \"in\". Print\n",
    "- 3. Create a set with those words whose lengths are grater than 4.\n",
    "- 4. Create a set with those words whose lengths are less than 7.\n",
    "- 5. Print the intersection of the sets obtained in (3) and (4) \n",
    "- 7. \n",
    "\n",
    "Excavations in the 1990s demonstrated that the Rock was first settled in the 9th century when a hill fort or dún was constructed on the site. The first known settlement on the rock was Dun Masc, or Masc’s Fort, an early Christian settlement that was pillaged in 842 by the Vikings. In 845 the Vikings of Dublin attacked the site and the abbot of Terryglass, Aed son of Dub dá Chrích, was killed there.[3] There is no clear evidence of 10th–11th century occupation.\n",
    "\n",
    "The castle was built in the second half of the 12th century.\n",
    "\n",
    "When the Normans arrived in Ireland in the late 12th century, Dunamase became the most important Hiberno-Norman fortification in Laois. It was Dunamase where Dermot Mac Morrough, King of Leinster, brought the wife of O'Rourke, the King of Breifne, after kidnapping her. Enlisting the help of the O'Connor clan, the O'Rourkes and O'Connors drove MacMurrough from Dunamase and he fled Ireland. MacMurrough gave Dunamase and his daughter Aoife in marriage to the Norman conqueror Strongbow in 1170 as part of a deal to enlist his help to regain his lands. The Norman invasion of Ireland then followed when Strongbow accompanied MacMurrough, along with many men, to attack and regain MacMurrogh's lands"
   ]
  },
  {
   "cell_type": "code",
   "execution_count": 3,
   "id": "f0a40ac5",
   "metadata": {},
   "outputs": [],
   "source": [
    "text = \"\"\"Excavations in the 1990s demonstrated that the Rock was first settled in the 9th century\n",
    "when a hill fort or dún was constructed on the site. The first known settlement on the rock was \n",
    "Dun Masc, or Masc’s Fort, an early Christian settlement that was pillaged in 842 by the Vikings. \n",
    "In 845 the Vikings of Dublin attacked the site and the abbot of Terryglass, Aed son of Dub dá Chrích,\n",
    "was killed there.[3] There is no clear evidence of 10th–11th century occupation.\n",
    "\n",
    "The castle was built in the second half of the 12th century.\n",
    "\n",
    "When the Normans arrived in Ireland in the late 12th century, Dunamase became the most \n",
    "important Hiberno-Norman fortification in Laois. It was Dunamase where Dermot Mac Morrough,\n",
    "King of Leinster, brought the wife of O'Rourke, the King of Breifne, after kidnapping her.\n",
    "Enlisting the help of the O'Connor clan, the O'Rourkes and O'Connors drove MacMurrough \n",
    "from Dunamase and he fled Ireland. MacMurrough gave Dunamase and his daughter Aoife in marriage \n",
    "to the Norman conqueror Strongbow in 1170 as part of a deal to enlist his help to regain his lands. \n",
    "The Norman invasion of Ireland then followed when Strongbow accompanied MacMurrough, along with many men, \n",
    "to attack and regain MacMurrogh's lands\"\"\""
   ]
  },
  {
   "cell_type": "code",
   "execution_count": 4,
   "id": "56096f68",
   "metadata": {},
   "outputs": [
    {
     "name": "stdout",
     "output_type": "stream",
     "text": [
      "{'Excavations': (0,), 'in': (1, 11, 46, 87, 99, 101, 113, 163, 170), 'the': (2, 6, 12, 24, 31, 49, 53, 58, 61, 88, 92, 96, 102, 108, 126, 130, 138, 141, 144, 166), '1990s': (3,), 'demonstrated': (4,), 'that': (5, 43), 'Rock': (7,), 'was': (8, 21, 33, 44, 71, 85, 116), 'first': (9, 27), 'settled': (10,), '9th': (13,), 'century': (14, 81), 'when': (15, 192), 'a': (16, 175), 'hill': (17,), 'fort': (18,), 'or': (19, 36), 'dún': (20,), 'constructed': (22,), 'on': (23, 30), 'site.': (25,), 'The': (26, 83, 185), 'known': (28,), 'settlement': (29, 42), 'rock': (32,), 'Dun': (34,), 'Masc,': (35,), 'Masc’s': (37,), 'Fort,': (38,), 'an': (39,), 'early': (40,), 'Christian': (41,), 'pillaged': (45,), '842': (47,), 'by': (48,), 'Vikings.': (50,), 'In': (51,), '845': (52,), 'Vikings': (54,), 'of': (55, 63, 67, 79, 91, 123, 128, 132, 140, 174, 188), 'Dublin': (56,), 'attacked': (57,), 'site': (59,), 'and': (60, 146, 152, 159, 202), 'abbot': (62,), 'Terryglass,': (64,), 'Aed': (65,), 'son': (66,), 'Dub': (68,), 'dá': (69,), 'Chrích,': (70,), 'killed': (72,), 'there.[3]': (73,), 'There': (74,), 'is': (75,), 'no': (76,), 'clear': (77,), 'evidence': (78,), '10th–11th': (80,), 'occupation.': (82,), 'castle': (84,), 'built': (86,), 'second': (89,), 'half': (90,), '12th': (93, 104), 'century.': (94,), 'When': (95,), 'Normans': (97,), 'arrived': (98,), 'Ireland': (100, 189), 'late': (103,), 'century,': (105,), 'Dunamase': (106, 117, 151, 158), 'became': (107,), 'most': (109,), 'important': (110,), 'Hiberno-Norman': (111,), 'fortification': (112,), 'Laois.': (114,), 'It': (115,), 'where': (118,), 'Dermot': (119,), 'Mac': (120,), 'Morrough,': (121,), 'King': (122, 131), 'Leinster,': (124,), 'brought': (125,), 'wife': (127,), \"O'Rourke,\": (129,), 'Breifne,': (133,), 'after': (134,), 'kidnapping': (135,), 'her.': (136,), 'Enlisting': (137,), 'help': (139, 180), \"O'Connor\": (142,), 'clan,': (143,), \"O'Rourkes\": (145,), \"O'Connors\": (147,), 'drove': (148,), 'MacMurrough': (149, 156), 'from': (150,), 'he': (153,), 'fled': (154,), 'Ireland.': (155,), 'gave': (157,), 'his': (160, 179, 183), 'daughter': (161,), 'Aoife': (162,), 'marriage': (164,), 'to': (165, 177, 181, 200), 'Norman': (167, 186), 'conqueror': (168,), 'Strongbow': (169, 193), '1170': (171,), 'as': (172,), 'part': (173,), 'deal': (176,), 'enlist': (178,), 'regain': (182, 203), 'lands.': (184,), 'invasion': (187,), 'then': (190,), 'followed': (191,), 'accompanied': (194,), 'MacMurrough,': (195,), 'along': (196,), 'with': (197,), 'many': (198,), 'men,': (199,), 'attack': (201,), \"MacMurrogh's\": (204,), 'lands': (205,)}\n"
     ]
    }
   ],
   "source": [
    "list_of_words = text.split()\n",
    "\n",
    "dictionary = {}\n",
    "\n",
    "for index, word in enumerate(list_of_words):\n",
    "    \n",
    "    if word not in dictionary: # Adding key-value to dictionary\n",
    "        dictionary [word] = (index,)\n",
    "    \n",
    "    else:  # Updating values for the key \n",
    "        t = dictionary [word]\n",
    "        dictionary [word] = t + (index,)\n",
    "\n",
    "print (dictionary)\n",
    "    "
   ]
  },
  {
   "cell_type": "code",
   "execution_count": 5,
   "id": "4c48515c",
   "metadata": {},
   "outputs": [
    {
     "name": "stdout",
     "output_type": "stream",
     "text": [
      "(2, 6, 12, 24, 31, 49, 53, 58, 61, 88, 92, 96, 102, 108, 126, 130, 138, 141, 144, 166)\n",
      "Average position of word 'the': 81.35\n",
      "(1, 11, 46, 87, 99, 101, 113, 163, 170)\n",
      "Average position of word \"in\": 87.88888888888889\n"
     ]
    }
   ],
   "source": [
    "\n",
    "\n",
    "tuple_the = dictionary[\"the\"]\n",
    "print (tuple_the)\n",
    "sum =0\n",
    "for i in tuple_the:\n",
    "    sum+=  i\n",
    "print (\"Average position of word 'the': {0}\".format(sum/len(tuple_the)))\n",
    "\n",
    "\n",
    "\n",
    "\n",
    "tuple_in = dictionary[\"in\"]\n",
    "print (tuple_in)\n",
    "sum =0\n",
    "for i in tuple_in:\n",
    "    sum+=  i\n",
    "print (\"Average position of word \\\"in\\\": {0}\".format(sum/len(tuple_in)))\n",
    "\n",
    "\n"
   ]
  },
  {
   "cell_type": "code",
   "execution_count": 6,
   "id": "c3311394",
   "metadata": {},
   "outputs": [
    {
     "name": "stdout",
     "output_type": "stream",
     "text": [
      "81.35\n",
      "87.88888888888889\n"
     ]
    }
   ],
   "source": []
  },
  {
   "cell_type": "code",
   "execution_count": 16,
   "id": "7f18a272",
   "metadata": {},
   "outputs": [
    {
     "name": "stdout",
     "output_type": "stream",
     "text": [
      "{'lands.', 'occupation.', \"O'Rourke,\", 'Enlisting', 'MacMurrough', 'castle', 'first', 'along', 'Laois.', 'Leinster,', \"O'Connor\", 'Fort,', 'Terryglass,', 'Breifne,', 'settled', '1990s', 'known', 'MacMurrough,', 'Ireland.', 'invasion', 'site.', 'abbot', 'daughter', 'constructed', 'second', 'important', 'Excavations', 'Dunamase', 'century.', 'Morrough,', \"O'Rourkes\", 'Normans', \"O'Connors\", 'conqueror', 'century', 'killed', 'Masc’s', 'clan,', 'accompanied', 'Vikings', 'brought', 'lands', 'Hiberno-Norman', 'Norman', 'drove', 'Chrích,', 'early', 'demonstrated', 'there.[3]', 'Strongbow', 'kidnapping', 'where', 'Dermot', 'followed', 'attack', 'regain', 'There', 'Masc,', '10th–11th', 'Dublin', 'settlement', 'clear', 'century,', 'attacked', 'fortification', 'Aoife', 'Christian', \"MacMurrogh's\", 'Ireland', 'after', 'became', 'enlist', 'built', 'marriage', 'Vikings.', 'evidence', 'pillaged', 'arrived'}\n",
      "{'lands.', 'the', 'castle', 'It', 'first', 'along', 'Laois.', 'dá', 'In', '9th', 'Fort,', 'Aed', 'her.', 'deal', 'gave', '1990s', 'known', 'on', 'as', 'site.', 'abbot', 'by', 'fort', 'a', 'second', 'then', 'most', 'that', 'King', 'When', 'late', '1170', 'from', 'or', 'is', 'fled', 'to', 'half', 'was', 'killed', 'Masc’s', 'Rock', 'clan,', 'with', 'Mac', 'part', 'and', 'lands', 'Norman', 'Dun', 'drove', 'The', 'no', 'Dub', 'early', 'dún', '842', '845', 'where', 'site', '12th', 'Dermot', 'many', 'attack', 'rock', 'There', 'regain', 'his', 'men,', 'Masc,', 'hill', 'son', 'Dublin', 'clear', 'an', 'help', 'wife', 'Aoife', 'after', 'became', 'when', 'he', 'of', 'enlist', 'built', 'in'}\n",
      "\n",
      "\n",
      "Intersection of two sets (3) and(4):{'clan,', 'lands.', 'regain', 'There', 'Masc,', 'second', 'lands', 'castle', 'Norman', 'Dublin', 'clear', 'first', 'along', 'drove', 'Aoife', 'Laois.', 'Fort,', 'after', 'early', 'became', '1990s', 'known', 'enlist', 'built', 'where', 'site.', 'Dermot', 'abbot', 'killed', 'Masc’s', 'attack'}\n"
     ]
    }
   ],
   "source": [
    "set_gt4 = set()\n",
    "for word in list_of_words:\n",
    "    if len(word ) > 4:\n",
    "        set_gt4.add(word)\n",
    "\n",
    "print (set_gt4)\n",
    "\n",
    "set_lt7 = set()\n",
    "for word in list_of_words:\n",
    "    if len(word ) <7:\n",
    "        set_lt7.add(word)\n",
    "\n",
    "print (set_lt7)   \n",
    "\n",
    "intersected_set = set_gt4.intersection(set_lt7)\n",
    "print (\"\\n\\nIntersection of two sets (3) and(4):{0}\".format(intersected_set))"
   ]
  },
  {
   "cell_type": "markdown",
   "id": "56859b33",
   "metadata": {},
   "source": [
    "## Q2 Create a function that returns a list of words.\n",
    "## Create another function that returns a set of numbers.\n",
    "\n",
    "## Update the set with the elements of the list. (i.e. add list elments to the set)  "
   ]
  },
  {
   "cell_type": "code",
   "execution_count": 29,
   "id": "19b5cc75",
   "metadata": {},
   "outputs": [
    {
     "name": "stdout",
     "output_type": "stream",
     "text": [
      "enter word 66\n",
      "enter word 44fe\n",
      "enter word fere\n",
      "enter word frefr\n",
      "enter word \n",
      "['66', '44fe', 'fere', 'frefr']\n",
      "enter number 5\n",
      "enter number 6\n",
      "enter number 7\n",
      "enter number 8\n",
      "enter number \n",
      "{8, 5, 6, 7}\n",
      "{'frefr', 5, 6, 7, 8, '44fe', 'fere', '66'}\n"
     ]
    }
   ],
   "source": [
    "\n",
    "\n",
    "\n",
    "\n",
    "\n",
    "\n",
    "\n",
    "\n",
    "\n",
    "\n",
    "\n",
    "\n",
    "\n",
    "\n",
    "\n",
    "\n",
    "\n",
    "\n",
    "\n",
    "def myfun():\n",
    "    \n",
    "    retl = []\n",
    "    while True:\n",
    "        word = input (\"enter word \")\n",
    "        if word == '':\n",
    "            break\n",
    "        retl.append(word)\n",
    "\n",
    "    return retl\n",
    "\n",
    "def myfunset():\n",
    "    \n",
    "    retset = set()\n",
    "    while True:\n",
    "        number = input (\"enter number \")\n",
    "        if number == '':\n",
    "            break\n",
    "        retset.add(int(number))\n",
    "\n",
    "    return retset\n",
    "\n",
    "mylist = myfun()\n",
    "print (mylist)\n",
    "myset = myfunset()\n",
    "print (myset)\n",
    "\n",
    "myset.update(mylist)\n",
    "\n",
    "print (myset)\n"
   ]
  },
  {
   "cell_type": "code",
   "execution_count": null,
   "id": "ee3d64f8",
   "metadata": {},
   "outputs": [],
   "source": []
  },
  {
   "cell_type": "code",
   "execution_count": null,
   "id": "e59a9f3c",
   "metadata": {},
   "outputs": [],
   "source": []
  }
 ],
 "metadata": {
  "kernelspec": {
   "display_name": "Python 3 (ipykernel)",
   "language": "python",
   "name": "python3"
  },
  "language_info": {
   "codemirror_mode": {
    "name": "ipython",
    "version": 3
   },
   "file_extension": ".py",
   "mimetype": "text/x-python",
   "name": "python",
   "nbconvert_exporter": "python",
   "pygments_lexer": "ipython3",
   "version": "3.11.3"
  }
 },
 "nbformat": 4,
 "nbformat_minor": 5
}
