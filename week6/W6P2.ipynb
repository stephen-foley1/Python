{
 "cells": [
  {
   "cell_type": "markdown",
   "id": "df435aff",
   "metadata": {},
   "source": [
    "# Create a frozenset with all English alphabets.\n",
    "# Create a dictionary where every two consecutive alphabets are keys (a,b) and their code points (ASCII) as value\n"
   ]
  },
  {
   "cell_type": "code",
   "execution_count": 10,
   "id": "ebe9c4de",
   "metadata": {},
   "outputs": [
    {
     "name": "stdout",
     "output_type": "stream",
     "text": [
      "frozenset({'x', 'a', 'u', 'c', 'e', 'l', 'd', 'h', 't', 'y', 'q', 'v', 'p', 'n', 'o', 's', 'm', 'z', 'i', 'r', 'k', 'b', 'f', 'g', 'w', 'j'})\n",
      "('a', 'b')\n",
      "('c', 'd')\n",
      "('e', 'f')\n",
      "('g', 'h')\n",
      "('i', 'j')\n",
      "('k', 'l')\n",
      "('m', 'n')\n",
      "('o', 'p')\n",
      "('q', 'r')\n",
      "('s', 't')\n",
      "('u', 'v')\n",
      "('w', 'x')\n",
      "('y', 'z')\n",
      "{('a', 'b'): 195, ('c', 'd'): 199, ('e', 'f'): 203, ('g', 'h'): 207, ('i', 'j'): 211, ('k', 'l'): 215, ('m', 'n'): 219, ('o', 'p'): 223, ('q', 'r'): 227, ('s', 't'): 231, ('u', 'v'): 235, ('w', 'x'): 239, ('y', 'z'): 243}\n"
     ]
    }
   ],
   "source": [
    "s = frozenset(\"abcdefghijklmnopqrstuvwxyz\")\n",
    "print (s)\n",
    "\n",
    "mylist = list(\"abcdefghijklmnopqrstuvwxyz\")\n",
    "\n",
    "mydictionary = {}\n",
    "\n",
    "i=0\n",
    "while i<len(mylist)-1:\n",
    "    \n",
    "    tp = (mylist[i], mylist[i+1])\n",
    "    print (tp)\n",
    "    \n",
    "    mydictionary[tp] = ord(mylist[i]) + ord(mylist[i+1]) \n",
    "    i+=2\n",
    "    \n",
    "print (mydictionary)\n"
   ]
  },
  {
   "cell_type": "markdown",
   "id": "3e1f03e4",
   "metadata": {},
   "source": [
    "# Create  adictionary where name and student number are considered as key and students marks in two different modules as value. \n",
    "\n",
    "e.g. \n",
    "key = a forzen set like {John, C00012322}  value = a tuple like (84, 45)"
   ]
  },
  {
   "cell_type": "code",
   "execution_count": 11,
   "id": "19106f23",
   "metadata": {},
   "outputs": [
    {
     "name": "stdout",
     "output_type": "stream",
     "text": [
      "enter name yy\n",
      "enter ID c\n",
      "enter Marks of Module1 7\n",
      "enter Marks of Module2 8\n",
      "enter name \n",
      "{frozenset({'yy', 'c'}): ('7', '8')}\n"
     ]
    }
   ],
   "source": [
    "def myfun():\n",
    "    \n",
    "    retl = {}\n",
    "    while True:\n",
    "        name = input (\"enter name \")\n",
    "        if name == '':\n",
    "            break\n",
    "        ID = input (\"enter ID \")\n",
    "        if ID == '':\n",
    "            break\n",
    "        marks1 = input (\"enter Marks of Module1 \")\n",
    "        marks2 = input (\"enter Marks of Module2 \")\n",
    "         \n",
    "        key = frozenset ([name, ID])\n",
    "        value = (marks1, marks2)\n",
    "\n",
    "        retl [key] = value\n",
    "        \n",
    "    return retl    \n",
    "\n",
    "student_dictionary = myfun()\n",
    "\n",
    "print (student_dictionary)\n"
   ]
  },
  {
   "cell_type": "markdown",
   "id": "4ee6a633",
   "metadata": {},
   "source": [
    "### Q3 Given tuple that cotains several lists of numbers. Sort each list.\n",
    "\n",
    " Input: ([7, 5, 4], [0,2,3, -4], [7, 5, 4, 5])\n",
    " \n",
    " Output: ([4, 5, 6], [-4, 0, 2, 3], [4, 5, 5, 7])"
   ]
  },
  {
   "cell_type": "code",
   "execution_count": 13,
   "id": "f994bb9c",
   "metadata": {},
   "outputs": [
    {
     "name": "stdout",
     "output_type": "stream",
     "text": [
      "([4, 5, 7], [-4, 0, 2, 3], [4, 5, 5, 7])\n"
     ]
    }
   ],
   "source": [
    "original_tuple = ([7, 5, 4], [0,2,3, -4], [7, 5, 4, 5])\n",
    " \n",
    "sorted_lists = ()\n",
    "for lst in original_tuple:\n",
    "    sorted_list = sorted(lst)\n",
    "    sorted_lists += (sorted_list,)\n",
    "\n",
    "print(sorted_lists)"
   ]
  },
  {
   "cell_type": "code",
   "execution_count": null,
   "id": "cf5dcd23",
   "metadata": {},
   "outputs": [],
   "source": []
  }
 ],
 "metadata": {
  "kernelspec": {
   "display_name": "Python 3 (ipykernel)",
   "language": "python",
   "name": "python3"
  },
  "language_info": {
   "codemirror_mode": {
    "name": "ipython",
    "version": 3
   },
   "file_extension": ".py",
   "mimetype": "text/x-python",
   "name": "python",
   "nbconvert_exporter": "python",
   "pygments_lexer": "ipython3",
   "version": "3.11.3"
  }
 },
 "nbformat": 4,
 "nbformat_minor": 5
}
